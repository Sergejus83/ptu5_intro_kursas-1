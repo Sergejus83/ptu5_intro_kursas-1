{
 "cells": [
  {
   "cell_type": "markdown",
   "metadata": {},
   "source": [
    "# Decorator I"
   ]
  },
  {
   "cell_type": "code",
   "execution_count": 1,
   "metadata": {},
   "outputs": [],
   "source": [
    "def returns_string(some_text):\n",
    "    return some_text"
   ]
  },
  {
   "cell_type": "code",
   "execution_count": 2,
   "metadata": {},
   "outputs": [],
   "source": [
    "def upper_text(text, func):\n",
    "    if type(text) != str:\n",
    "        return ValueError(\"input must be a type of string\")\n",
    "    some_text = func(text)\n",
    "    text = func(text)\n",
    "    return text.upper()\n"
   ]
  },
  {
   "cell_type": "code",
   "execution_count": 3,
   "metadata": {},
   "outputs": [],
   "source": [
    "def reversed_text(text):\n",
    "    return text[::-1]"
   ]
  },
  {
   "cell_type": "code",
   "execution_count": 4,
   "metadata": {},
   "outputs": [
    {
     "name": "stdout",
     "output_type": "stream",
     "text": [
      "AJICKNUF OIGYL OINSETSKUA\n"
     ]
    }
   ],
   "source": [
    "print(upper_text(\"aukstesnio lygio funkcija\", reversed_text))"
   ]
  },
  {
   "cell_type": "code",
   "execution_count": 5,
   "metadata": {},
   "outputs": [],
   "source": [
    "def upper_dec(func):\n",
    "    def wrapper(text):\n",
    "        if type(text) != str:\n",
    "            raise ValueError(\"input must be a type of string\")\n",
    "        some_text = func(text)\n",
    "        text = func(text)\n",
    "        return text.upper()\n",
    "    return wrapper"
   ]
  },
  {
   "cell_type": "code",
   "execution_count": 6,
   "metadata": {},
   "outputs": [
    {
     "name": "stdout",
     "output_type": "stream",
     "text": [
      "SATSKET SATSREVPA\n",
      "DIDZIOSIOMIS TEKSTAS\n"
     ]
    }
   ],
   "source": [
    "@upper_dec\n",
    "def reversed_text(text):\n",
    "    return text[::-1]\n",
    "\n",
    "@upper_dec\n",
    "def return_string(some_text):\n",
    "    return some_text\n",
    "\n",
    "print(reversed_text(\"Apverstas tekstas\"))\n",
    "print(return_string(\"didziosiomis tekstas\"))"
   ]
  },
  {
   "cell_type": "markdown",
   "metadata": {},
   "source": [
    "# Decorator II"
   ]
  },
  {
   "cell_type": "code",
   "execution_count": 7,
   "metadata": {},
   "outputs": [],
   "source": [
    "from functools import wraps\n",
    "\n",
    "def lyg_nelyg(func):\n",
    "    @wraps(func)\n",
    "    def wrapper(*args, **kwarg):\n",
    "        result = func(*args, **kwarg)\n",
    "        \"\"\" nurodo ar funkcijos rezultatas yra lyginis ar nelyginis\"\"\"\n",
    "        if result % 2 != 0:\n",
    "            return result, '- nelyginis'\n",
    "        return result, '- lyginis'\n",
    "    return wrapper"
   ]
  },
  {
   "cell_type": "code",
   "execution_count": 8,
   "metadata": {},
   "outputs": [],
   "source": [
    "@lyg_nelyg\n",
    "def duok_10():\n",
    "    \"\"\"grazina 10\"\"\"\n",
    "    return 10\n",
    "\n",
    "@lyg_nelyg\n",
    "def daugyba(x, y):\n",
    "    return x * y\n",
    "\n",
    "@lyg_nelyg\n",
    "def sumuoti(*args):\n",
    "    return sum(args)"
   ]
  },
  {
   "cell_type": "code",
   "execution_count": 9,
   "metadata": {},
   "outputs": [
    {
     "name": "stdout",
     "output_type": "stream",
     "text": [
      "(10, '- lyginis')\n",
      "(144, '- lyginis')\n",
      "(125, '- nelyginis')\n"
     ]
    }
   ],
   "source": [
    "print(duok_10())\n",
    "print(daugyba(8,18))\n",
    "print(sumuoti(23,4, 2, 5, 90,1))"
   ]
  },
  {
   "cell_type": "code",
   "execution_count": 10,
   "metadata": {},
   "outputs": [
    {
     "name": "stdout",
     "output_type": "stream",
     "text": [
      "wraps\n",
      "Decorator factory to apply update_wrapper() to a wrapper function\n",
      "\n",
      "       Returns a decorator that invokes update_wrapper() with the decorated\n",
      "       function as the wrapper argument and the arguments to wraps() as the\n",
      "       remaining arguments. Default arguments are as for update_wrapper().\n",
      "       This is a convenience function to simplify applying partial() to\n",
      "       update_wrapper().\n",
      "    \n",
      "duok_10\n",
      "grazina 10\n"
     ]
    }
   ],
   "source": [
    "print(wraps.__name__)\n",
    "print(wraps.__doc__)\n",
    "print(duok_10.__name__)\n",
    "print(duok_10.__doc__)"
   ]
  },
  {
   "cell_type": "markdown",
   "metadata": {},
   "source": [
    "# uzvelavimas"
   ]
  },
  {
   "cell_type": "code",
   "execution_count": 11,
   "metadata": {},
   "outputs": [],
   "source": [
    "from time import sleep\n",
    "\n",
    "def uzvelavimas(sekundes):\n",
    "    def uzvelavimas(func):\n",
    "        def wrapper(*args, **kwargs):\n",
    "            sleep(sekundes)\n",
    "            print(f\"Funkcija buvo atidėta {sekundes} sekundę(-es)\")\n",
    "            return func(*args, **kwargs)\n",
    "        return wrapper\n",
    "    return uzvelavimas"
   ]
  },
  {
   "cell_type": "code",
   "execution_count": 12,
   "metadata": {},
   "outputs": [],
   "source": [
    "def args_counter(func):\n",
    "    def wrapper(*args, **kwargs):\n",
    "\n",
    "        print(f\"argumentu: {len(args)}, raktiniu argumentu : {len(kwargs)}\")\n",
    "        return func(*args, **kwargs)\n",
    "    return wrapper"
   ]
  },
  {
   "cell_type": "code",
   "execution_count": 13,
   "metadata": {},
   "outputs": [
    {
     "name": "stdout",
     "output_type": "stream",
     "text": [
      "argumentu: 7, raktiniu argumentu : 0\n",
      "Funkcija buvo atidėta 3 sekundę(-es)\n",
      "128\n"
     ]
    }
   ],
   "source": [
    "@args_counter\n",
    "@uzvelavimas(3)\n",
    "def sumuojam(*args):\n",
    "    return sum(args)\n",
    "    \n",
    "print (sumuojam(10,20,33,11,121,-100, 33))"
   ]
  },
  {
   "cell_type": "code",
   "execution_count": 15,
   "metadata": {},
   "outputs": [
    {
     "name": "stdout",
     "output_type": "stream",
     "text": [
      "Funkcija buvo atidėta 2 sekundę(-es)\n",
      "1\n",
      "2\n",
      "3\n",
      "4\n",
      "5\n",
      "6\n",
      "7\n",
      "8\n",
      "9\n",
      "10\n"
     ]
    }
   ],
   "source": [
    "\n",
    "@uzvelavimas(2)\n",
    "def skiaciuojam_iki_argumento(kartai):\n",
    "    for skaicius in range(kartai):\n",
    "        print(skaicius+1)\n",
    "\n",
    "skiaciuojam_iki_argumento(10)"
   ]
  }
 ],
 "metadata": {
  "kernelspec": {
   "display_name": "Python 3.10.6 ('venv': venv)",
   "language": "python",
   "name": "python3"
  },
  "language_info": {
   "codemirror_mode": {
    "name": "ipython",
    "version": 3
   },
   "file_extension": ".py",
   "mimetype": "text/x-python",
   "name": "python",
   "nbconvert_exporter": "python",
   "pygments_lexer": "ipython3",
   "version": "3.10.6"
  },
  "orig_nbformat": 4,
  "vscode": {
   "interpreter": {
    "hash": "35df5f82ee76c7038a9e6c987acf65d3b80fea6e1f2e81d714ea46d977f6b370"
   }
  }
 },
 "nbformat": 4,
 "nbformat_minor": 2
}
