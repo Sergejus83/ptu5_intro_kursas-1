{
 "cells": [
  {
   "cell_type": "markdown",
   "metadata": {},
   "source": [
    "# Numpy"
   ]
  },
  {
   "cell_type": "code",
   "execution_count": 300,
   "metadata": {},
   "outputs": [],
   "source": [
    "import numpy as np"
   ]
  },
  {
   "cell_type": "code",
   "execution_count": 301,
   "metadata": {},
   "outputs": [
    {
     "name": "stdout",
     "output_type": "stream",
     "text": [
      "[5 5 8 9 3]\n"
     ]
    }
   ],
   "source": [
    "sarasas = [5,5,8,9,3]\n",
    "vektorius = np.array(sarasas)\n",
    "print(vektorius)"
   ]
  },
  {
   "cell_type": "code",
   "execution_count": 302,
   "metadata": {},
   "outputs": [
    {
     "name": "stdout",
     "output_type": "stream",
     "text": [
      "[[4 5 6]\n",
      " [1 2 3]\n",
      " [7 8 9]]\n"
     ]
    }
   ],
   "source": [
    "sarasai = [\n",
    "    [4,5,6],\n",
    "    [1,2,3],\n",
    "    [7,8,9]\n",
    "]\n",
    "matrica = np.matrix(sarasai)\n",
    "print(matrica)"
   ]
  },
  {
   "cell_type": "code",
   "execution_count": 303,
   "metadata": {},
   "outputs": [
    {
     "data": {
      "text/plain": [
       "array([ 0,  7, 14, 21, 28, 35, 42, 49, 56, 63, 70, 77])"
      ]
     },
     "execution_count": 303,
     "metadata": {},
     "output_type": "execute_result"
    }
   ],
   "source": [
    "np.arange(0, 78, 7)"
   ]
  },
  {
   "cell_type": "code",
   "execution_count": 304,
   "metadata": {},
   "outputs": [
    {
     "name": "stdout",
     "output_type": "stream",
     "text": [
      "[ 0  7 14 21 28 35 42 49 56 63 70 77]\n"
     ]
    }
   ],
   "source": [
    "print(np.arange(0, 78, 7))"
   ]
  },
  {
   "cell_type": "code",
   "execution_count": 305,
   "metadata": {},
   "outputs": [
    {
     "data": {
      "text/plain": [
       "array([0., 0., 0., 0., 0., 0., 0.])"
      ]
     },
     "execution_count": 305,
     "metadata": {},
     "output_type": "execute_result"
    }
   ],
   "source": [
    "np.zeros(7)\n"
   ]
  },
  {
   "cell_type": "code",
   "execution_count": 306,
   "metadata": {},
   "outputs": [
    {
     "name": "stdout",
     "output_type": "stream",
     "text": [
      "[0. 0. 0. 0. 0. 0. 0.]\n"
     ]
    }
   ],
   "source": [
    "print(np.zeros(7))"
   ]
  },
  {
   "cell_type": "code",
   "execution_count": 307,
   "metadata": {},
   "outputs": [
    {
     "name": "stdout",
     "output_type": "stream",
     "text": [
      "[[0. 0. 0. 0. 0. 0. 0.]\n",
      " [0. 0. 0. 0. 0. 0. 0.]\n",
      " [0. 0. 0. 0. 0. 0. 0.]\n",
      " [0. 0. 0. 0. 0. 0. 0.]\n",
      " [0. 0. 0. 0. 0. 0. 0.]\n",
      " [0. 0. 0. 0. 0. 0. 0.]\n",
      " [0. 0. 0. 0. 0. 0. 0.]]\n"
     ]
    }
   ],
   "source": [
    "print(np.zeros((7, 7)))"
   ]
  },
  {
   "cell_type": "code",
   "execution_count": 308,
   "metadata": {},
   "outputs": [
    {
     "name": "stdout",
     "output_type": "stream",
     "text": [
      "[[0 0 0 0 0 0 0]\n",
      " [0 0 0 0 0 0 0]\n",
      " [0 0 0 0 0 0 0]\n",
      " [0 0 0 0 0 0 0]\n",
      " [0 0 0 0 0 0 0]\n",
      " [0 0 0 0 0 0 0]\n",
      " [0 0 0 0 0 0 0]]\n"
     ]
    }
   ],
   "source": [
    "print(np.zeros((7, 7), dtype=int))"
   ]
  },
  {
   "cell_type": "code",
   "execution_count": 309,
   "metadata": {},
   "outputs": [
    {
     "name": "stdout",
     "output_type": "stream",
     "text": [
      "[ 0.   2.5  5.   7.5 10.  12.5 15.  17.5 20. ]\n"
     ]
    }
   ],
   "source": [
    "print(np.linspace(0,20,9))"
   ]
  },
  {
   "cell_type": "code",
   "execution_count": 310,
   "metadata": {},
   "outputs": [
    {
     "name": "stdout",
     "output_type": "stream",
     "text": [
      "[ 0.  5. 10. 15. 20.]\n"
     ]
    }
   ],
   "source": [
    "print(np.linspace(0,20,5))"
   ]
  },
  {
   "cell_type": "code",
   "execution_count": 311,
   "metadata": {},
   "outputs": [
    {
     "name": "stdout",
     "output_type": "stream",
     "text": [
      "[[1 0 0 0 0 0 0]\n",
      " [0 1 0 0 0 0 0]\n",
      " [0 0 1 0 0 0 0]\n",
      " [0 0 0 1 0 5 0]\n",
      " [0 0 0 0 1 0 0]\n",
      " [0 0 0 0 0 1 0]\n",
      " [0 0 0 0 0 0 1]]\n"
     ]
    }
   ],
   "source": [
    "vienetine = np.eye(7, dtype=int)\n",
    "vienetine [3,5] = 5\n",
    "print(vienetine)"
   ]
  },
  {
   "cell_type": "code",
   "execution_count": 312,
   "metadata": {},
   "outputs": [
    {
     "name": "stdout",
     "output_type": "stream",
     "text": [
      "[[1. 0. 0. 0.]\n",
      " [0. 1. 0. 0.]\n",
      " [0. 0. 1. 0.]\n",
      " [0. 0. 0. 1.]]\n"
     ]
    }
   ],
   "source": [
    "print(np.eye(4))"
   ]
  },
  {
   "cell_type": "markdown",
   "metadata": {},
   "source": [
    "# Random array/matricos kurimas"
   ]
  },
  {
   "cell_type": "code",
   "execution_count": 313,
   "metadata": {},
   "outputs": [
    {
     "data": {
      "text/plain": [
       "array([0.50975029, 0.870613  , 0.34836038, 0.11060334, 0.62499478,\n",
       "       0.93423846, 0.33228151, 0.85657046, 0.46435355, 0.44023083])"
      ]
     },
     "execution_count": 313,
     "metadata": {},
     "output_type": "execute_result"
    }
   ],
   "source": [
    "np.random.rand(10)"
   ]
  },
  {
   "cell_type": "code",
   "execution_count": 314,
   "metadata": {},
   "outputs": [
    {
     "name": "stdout",
     "output_type": "stream",
     "text": [
      "[[0.54656359 0.68479472 0.32977879 0.20132309]\n",
      " [0.67087952 0.08043496 0.52016148 0.76441858]\n",
      " [0.64026727 0.37163563 0.40168415 0.12860896]]\n"
     ]
    }
   ],
   "source": [
    "print(np.random.rand(3,4))"
   ]
  },
  {
   "cell_type": "code",
   "execution_count": 315,
   "metadata": {},
   "outputs": [
    {
     "name": "stdout",
     "output_type": "stream",
     "text": [
      "[-6  0 -1 -4  3 10 10]\n"
     ]
    }
   ],
   "source": [
    "print(np.random.randint(-10, 11, 7)) # randINT"
   ]
  },
  {
   "cell_type": "markdown",
   "metadata": {},
   "source": [
    "# Masyvu pertvarkymas"
   ]
  },
  {
   "cell_type": "code",
   "execution_count": 316,
   "metadata": {},
   "outputs": [
    {
     "name": "stdout",
     "output_type": "stream",
     "text": [
      "[-47  78  97 -43  16  83  62  65  21 -15  71  43  54   4  27  30 -90 -29\n",
      "  45 -90 -59 -82  16 -24  17  62 -53  56 -21 -31 -87  52 -34 -37  -9 -31\n",
      "   0  95  61 -43  62 -85 -46  78   8 -85  65  -9  18  53 -47  60 -35  86\n",
      "  -3 -90  99 -33   2 -42 -20  34 -74  70  20 -88  67 -28 -63 -71 -49  -4\n",
      " -45 -78 -72 -87  81  74 -71   6 -86]\n",
      "[[-47  78  97 -43  16  83  62  65  21]\n",
      " [-15  71  43  54   4  27  30 -90 -29]\n",
      " [ 45 -90 -59 -82  16 -24  17  62 -53]\n",
      " [ 56 -21 -31 -87  52 -34 -37  -9 -31]\n",
      " [  0  95  61 -43  62 -85 -46  78   8]\n",
      " [-85  65  -9  18  53 -47  60 -35  86]\n",
      " [ -3 -90  99 -33   2 -42 -20  34 -74]\n",
      " [ 70  20 -88  67 -28 -63 -71 -49  -4]\n",
      " [-45 -78 -72 -87  81  74 -71   6 -86]]\n"
     ]
    }
   ],
   "source": [
    "masyvas = np.random.randint(-90,100,81)\n",
    "print(masyvas)\n",
    "pertvarkyta = masyvas.reshape(9,9)\n",
    "print(pertvarkyta)"
   ]
  },
  {
   "cell_type": "code",
   "execution_count": 317,
   "metadata": {},
   "outputs": [
    {
     "name": "stdout",
     "output_type": "stream",
     "text": [
      "-90\n",
      "99\n"
     ]
    }
   ],
   "source": [
    "print(pertvarkyta.min())\n",
    "print(pertvarkyta.max())"
   ]
  },
  {
   "cell_type": "code",
   "execution_count": 318,
   "metadata": {},
   "outputs": [
    {
     "name": "stdout",
     "output_type": "stream",
     "text": [
      "16\n",
      "56\n"
     ]
    }
   ],
   "source": [
    "print(pertvarkyta.argmin())\n",
    "print(pertvarkyta.argmax())"
   ]
  },
  {
   "cell_type": "code",
   "execution_count": 319,
   "metadata": {},
   "outputs": [
    {
     "name": "stdout",
     "output_type": "stream",
     "text": [
      "(9, 9)\n",
      "int32\n"
     ]
    }
   ],
   "source": [
    "print(pertvarkyta.shape)\n",
    "print(pertvarkyta.dtype)"
   ]
  },
  {
   "cell_type": "code",
   "execution_count": 320,
   "metadata": {},
   "outputs": [
    {
     "name": "stdout",
     "output_type": "stream",
     "text": [
      "20\n",
      "10\n"
     ]
    }
   ],
   "source": [
    "print(len(str(2**64)))\n",
    "print(len(str(2**32)))"
   ]
  },
  {
   "cell_type": "markdown",
   "metadata": {},
   "source": [
    "# indeksacija ir reiksmiu traukymas"
   ]
  },
  {
   "cell_type": "code",
   "execution_count": 321,
   "metadata": {},
   "outputs": [
    {
     "data": {
      "text/plain": [
       "83"
      ]
     },
     "execution_count": 321,
     "metadata": {},
     "output_type": "execute_result"
    }
   ],
   "source": [
    "masyvas[5]"
   ]
  },
  {
   "cell_type": "code",
   "execution_count": 322,
   "metadata": {},
   "outputs": [
    {
     "data": {
      "text/plain": [
       "array([-43,  16,  83])"
      ]
     },
     "execution_count": 322,
     "metadata": {},
     "output_type": "execute_result"
    }
   ],
   "source": [
    "masyvas[3:6]"
   ]
  },
  {
   "cell_type": "code",
   "execution_count": 323,
   "metadata": {},
   "outputs": [],
   "source": [
    "masyvas[::4] = 4\n"
   ]
  },
  {
   "cell_type": "code",
   "execution_count": 324,
   "metadata": {},
   "outputs": [
    {
     "data": {
      "text/plain": [
       "4"
      ]
     },
     "execution_count": 324,
     "metadata": {},
     "output_type": "execute_result"
    }
   ],
   "source": [
    "pertvarkyta[0,0]"
   ]
  },
  {
   "cell_type": "code",
   "execution_count": 325,
   "metadata": {},
   "outputs": [
    {
     "data": {
      "text/plain": [
       "array([[  4,  78,  97, -43,   4,  83,  62,  65,   4],\n",
       "       [-15,  71,  43,   4,   4,  27,  30,   4, -29],\n",
       "       [ 45, -90,   4, -82,  16, -24,   4,  62, -53],\n",
       "       [ 56,   4, -31, -87,  52,   4, -37,  -9, -31],\n",
       "       [  4,  95,  61, -43,   4, -85, -46,  78,   4],\n",
       "       [-85,  65,  -9,   4,  53, -47,  60,   4,  86],\n",
       "       [ -3, -90,   4, -33,   2, -42,   4,  34, -74],\n",
       "       [ 70,   4, -88,  67, -28,   4, -71, -49,  -4],\n",
       "       [  4, -78, -72, -87,   4,  74, -71,   6,   4]])"
      ]
     },
     "execution_count": 325,
     "metadata": {},
     "output_type": "execute_result"
    }
   ],
   "source": [
    "masyvas.reshape(9, 9)"
   ]
  },
  {
   "cell_type": "code",
   "execution_count": 326,
   "metadata": {},
   "outputs": [
    {
     "data": {
      "text/plain": [
       "array([[ 27,  30,   4],\n",
       "       [-24,   4,  62],\n",
       "       [  4, -37,  -9]])"
      ]
     },
     "execution_count": 326,
     "metadata": {},
     "output_type": "execute_result"
    }
   ],
   "source": [
    "pertvarkyta[1:4, 5:8]"
   ]
  },
  {
   "cell_type": "code",
   "execution_count": 327,
   "metadata": {},
   "outputs": [
    {
     "name": "stdout",
     "output_type": "stream",
     "text": [
      "[[84 94  5 33 82 14 14 37 44  8]\n",
      " [58 76  2 83 93 81 71  0 71 70]\n",
      " [25 12 78  1  9 12 14 33 38 49]\n",
      " [70 48 16 45 65 45 31 94 31 33]\n",
      " [85 59 68 18 32 61 46 65 82 29]\n",
      " [ 3 22 21 11 98  2 87 80 49 17]\n",
      " [55 33 68 11 96 91 52 36 48  7]\n",
      " [25 50 49 51 61 69 42 59 33 99]\n",
      " [90 58 82 74 93 40 76  6 37 79]\n",
      " [ 7 85 50  8 46 44 94 39 28 41]]\n"
     ]
    }
   ],
   "source": [
    "masyvas=np.random.randint(0,100,100)\n",
    "matrica = masyvas.reshape(10,10)\n",
    "print(matrica)\n"
   ]
  },
  {
   "cell_type": "code",
   "execution_count": 328,
   "metadata": {},
   "outputs": [
    {
     "data": {
      "text/plain": [
       "array([[84,  5, 82, 14, 44],\n",
       "       [25, 78,  9, 14, 38],\n",
       "       [85, 68, 32, 46, 82],\n",
       "       [55, 68, 96, 52, 48],\n",
       "       [90, 82, 93, 76, 37]])"
      ]
     },
     "execution_count": 328,
     "metadata": {},
     "output_type": "execute_result"
    }
   ],
   "source": [
    "matrica[::2, ::2] # kas antra sk, kas antra eilute"
   ]
  },
  {
   "cell_type": "code",
   "execution_count": 329,
   "metadata": {},
   "outputs": [
    {
     "data": {
      "text/plain": [
       "array([[37, 76, 93, 82, 90],\n",
       "       [48, 52, 96, 68, 55],\n",
       "       [82, 46, 32, 68, 85],\n",
       "       [38, 14,  9, 78, 25],\n",
       "       [44, 14, 82,  5, 84]])"
      ]
     },
     "execution_count": 329,
     "metadata": {},
     "output_type": "execute_result"
    }
   ],
   "source": [
    "matrica[-2::-2, -2::-2] # atvirksiai"
   ]
  },
  {
   "cell_type": "code",
   "execution_count": 330,
   "metadata": {},
   "outputs": [
    {
     "data": {
      "text/plain": [
       "array([94, 76, 12, 48, 59, 22, 33, 50, 58, 85])"
      ]
     },
     "execution_count": 330,
     "metadata": {},
     "output_type": "execute_result"
    }
   ],
   "source": [
    "# tik 1 eilute\n",
    "matrica[:, 1]"
   ]
  },
  {
   "cell_type": "code",
   "execution_count": 331,
   "metadata": {},
   "outputs": [
    {
     "data": {
      "text/plain": [
       "array([94, 76, 12, 48, 59, 22, 33, 50, 58, 85])"
      ]
     },
     "execution_count": 331,
     "metadata": {},
     "output_type": "execute_result"
    }
   ],
   "source": [
    "# tik 1 eilute\n",
    "matrica[:, 1]"
   ]
  },
  {
   "cell_type": "code",
   "execution_count": 332,
   "metadata": {},
   "outputs": [
    {
     "data": {
      "text/plain": [
       "array([[94],\n",
       "       [76],\n",
       "       [12],\n",
       "       [48],\n",
       "       [59],\n",
       "       [22],\n",
       "       [33],\n",
       "       [50],\n",
       "       [58],\n",
       "       [85]])"
      ]
     },
     "execution_count": 332,
     "metadata": {},
     "output_type": "execute_result"
    }
   ],
   "source": [
    "# tik 1 eilute\n",
    "matrica[:, 1:2]"
   ]
  },
  {
   "cell_type": "markdown",
   "metadata": {},
   "source": [
    "# traukymas pagal salyga\n"
   ]
  },
  {
   "cell_type": "code",
   "execution_count": 333,
   "metadata": {},
   "outputs": [
    {
     "data": {
      "text/plain": [
       "array([84, 94,  5, 33, 82, 14, 14, 37, 44,  8, 58, 76,  2, 83, 93, 81, 71,\n",
       "        0, 71, 70, 25, 12, 78,  1,  9, 12, 14, 33, 38, 49, 70, 48, 16, 45,\n",
       "       65, 45, 31, 94, 31, 33, 85, 59, 68, 18, 32, 61, 46, 65, 82, 29,  3,\n",
       "       22, 21, 11, 98,  2, 87, 80, 49, 17, 55, 33, 68, 11, 96, 91, 52, 36,\n",
       "       48,  7, 25, 50, 49, 51, 61, 69, 42, 59, 33, 99, 90, 58, 82, 74, 93,\n",
       "       40, 76,  6, 37, 79,  7, 85, 50,  8, 46, 44, 94, 39, 28, 41])"
      ]
     },
     "execution_count": 333,
     "metadata": {},
     "output_type": "execute_result"
    }
   ],
   "source": [
    "masyvas"
   ]
  },
  {
   "cell_type": "code",
   "execution_count": 334,
   "metadata": {},
   "outputs": [
    {
     "data": {
      "text/plain": [
       "array([ True,  True, False,  True,  True, False, False,  True,  True,\n",
       "       False,  True,  True, False,  True,  True,  True,  True, False,\n",
       "        True,  True, False, False,  True, False, False, False, False,\n",
       "        True,  True,  True,  True,  True, False,  True,  True,  True,\n",
       "        True,  True,  True,  True,  True,  True,  True, False,  True,\n",
       "        True,  True,  True,  True, False, False, False, False, False,\n",
       "        True, False,  True,  True,  True, False,  True,  True,  True,\n",
       "       False,  True,  True,  True,  True,  True, False, False,  True,\n",
       "        True,  True,  True,  True,  True,  True,  True,  True,  True,\n",
       "        True,  True,  True,  True,  True,  True, False,  True,  True,\n",
       "       False,  True,  True, False,  True,  True,  True,  True, False,\n",
       "        True])"
      ]
     },
     "execution_count": 334,
     "metadata": {},
     "output_type": "execute_result"
    }
   ],
   "source": [
    "masyvas > 30"
   ]
  },
  {
   "cell_type": "code",
   "execution_count": 335,
   "metadata": {},
   "outputs": [
    {
     "data": {
      "text/plain": [
       "array([84, 94, 33, 82, 37, 44, 58, 76, 83, 93, 81, 71, 71, 70, 78, 33, 38,\n",
       "       49, 70, 48, 45, 65, 45, 31, 94, 31, 33, 85, 59, 68, 32, 61, 46, 65,\n",
       "       82, 98, 87, 80, 49, 55, 33, 68, 96, 91, 52, 36, 48, 50, 49, 51, 61,\n",
       "       69, 42, 59, 33, 99, 90, 58, 82, 74, 93, 40, 76, 37, 79, 85, 50, 46,\n",
       "       44, 94, 39, 41])"
      ]
     },
     "execution_count": 335,
     "metadata": {},
     "output_type": "execute_result"
    }
   ],
   "source": [
    "masyvas[masyvas > 30]"
   ]
  },
  {
   "cell_type": "code",
   "execution_count": 336,
   "metadata": {},
   "outputs": [
    {
     "name": "stdout",
     "output_type": "stream",
     "text": [
      "[False False  True False False  True  True False False  True False False\n",
      "  True False False False False  True False False  True  True False  True\n",
      "  True  True  True False False False False False  True False False False\n",
      " False False False False False False False  True False False False False\n",
      " False  True  True  True  True  True False  True False False False  True\n",
      " False False False  True False False False False False  True  True False\n",
      " False False False False False False False False False False False False\n",
      " False False False  True False False  True False False  True False False\n",
      " False False  True False]\n"
     ]
    }
   ],
   "source": [
    "iki_30 = masyvas< 30\n",
    "print(iki_30)"
   ]
  },
  {
   "cell_type": "code",
   "execution_count": 337,
   "metadata": {},
   "outputs": [
    {
     "data": {
      "text/plain": [
       "array([ 5, 14, 14,  8,  2,  0, 25, 12,  1,  9, 12, 14, 16, 18, 29,  3, 22,\n",
       "       21, 11,  2, 17, 11,  7, 25,  6,  7,  8, 28])"
      ]
     },
     "execution_count": 337,
     "metadata": {},
     "output_type": "execute_result"
    }
   ],
   "source": [
    "masyvas[masyvas < 30]"
   ]
  },
  {
   "cell_type": "code",
   "execution_count": 338,
   "metadata": {},
   "outputs": [
    {
     "data": {
      "text/plain": [
       "array([84, 94, 30, 33, 82, 30, 30, 37, 44, 30, 58, 76, 30, 83, 93, 81, 71,\n",
       "       30, 71, 70, 30, 30, 78, 30, 30, 30, 30, 33, 38, 49, 70, 48, 30, 45,\n",
       "       65, 45, 31, 94, 31, 33, 85, 59, 68, 30, 32, 61, 46, 65, 82, 30, 30,\n",
       "       30, 30, 30, 98, 30, 87, 80, 49, 30, 55, 33, 68, 30, 96, 91, 52, 36,\n",
       "       48, 30, 30, 50, 49, 51, 61, 69, 42, 59, 33, 99, 90, 58, 82, 74, 93,\n",
       "       40, 76, 30, 37, 79, 30, 85, 50, 30, 46, 44, 94, 39, 30, 41])"
      ]
     },
     "execution_count": 338,
     "metadata": {},
     "output_type": "execute_result"
    }
   ],
   "source": [
    "masyvas[iki_30] = 30 # kur buvo < 30, perrase i 30\n",
    "masyvas"
   ]
  },
  {
   "cell_type": "code",
   "execution_count": 339,
   "metadata": {},
   "outputs": [
    {
     "data": {
      "text/plain": [
       "array([62, 70, 94, 19, 92, 98, 60, 85, 35, 88, 29, 50, 36, 13, 66, 89, 61,\n",
       "       15, 93, 39])"
      ]
     },
     "execution_count": 339,
     "metadata": {},
     "output_type": "execute_result"
    }
   ],
   "source": [
    "naujas=np.random.randint(0, 100, 20)\n",
    "# naujas[naujas > 50] = np.random.randint(0, 100)\n",
    "naujas"
   ]
  },
  {
   "cell_type": "code",
   "execution_count": 340,
   "metadata": {},
   "outputs": [
    {
     "data": {
      "text/plain": [
       "array([71, 71, 71, 19, 71, 71, 71, 71, 35, 71, 29, 50, 36, 13, 71, 71, 71,\n",
       "       15, 71, 39])"
      ]
     },
     "execution_count": 340,
     "metadata": {},
     "output_type": "execute_result"
    }
   ],
   "source": [
    "naujas[naujas > 50] = np.random.randint(0, 100)\n",
    "naujas"
   ]
  },
  {
   "cell_type": "code",
   "execution_count": 341,
   "metadata": {},
   "outputs": [
    {
     "name": "stdout",
     "output_type": "stream",
     "text": [
      "masyvas:  [84 94 30 33 82 30 30 37 44 30 58 76 30 83 93 81 71 30 71 70 30 30 78 30\n",
      " 30 30 30 33 38 49 70 48 30 45 65 45 31 94 31 33 85 59 68 30 32 61 46 65\n",
      " 82 30 30 30 30 30 98 30 87 80 49 30 55 33 68 30 96 91 52 36 48 30 30 50\n",
      " 49 51 61 69 42 59 33 99 90 58 82 74 93 40 76 30 37 79 30 85 50 30 46 44\n",
      " 94 39 30 41]\n",
      "ispjova, copy:  [70 48 30 45 65 45 31 94 31 33 85 59 68 30 32 61 46 65 82 30 30 30 30 30\n",
      " 98 30 87 80 49 30]\n",
      "perrasyta ispjova:  [99 99 99 99 99 99 99 99 99 99 99 99 99 99 99 99 99 99 99 99 99 99 99 99\n",
      " 99 99 99 99 99 99]\n"
     ]
    }
   ],
   "source": [
    "ispjova = masyvas.copy()[30:60] # padarem kopija, kopijoje pasiimam nuo 30 iki 60 indeksa \n",
    "print(\"masyvas: \", masyvas)\n",
    "print(\"ispjova, copy: \", ispjova)\n",
    "ispjova[:] = 99 # paketem ispjova su 99 reiksmemis\n",
    "print(\"perrasyta ispjova: \", ispjova)"
   ]
  },
  {
   "cell_type": "code",
   "execution_count": 342,
   "metadata": {},
   "outputs": [
    {
     "data": {
      "text/plain": [
       "array([ True,  True,  True,  True,  True,  True,  True,  True,  True,\n",
       "        True,  True,  True,  True,  True,  True,  True,  True,  True,\n",
       "        True,  True,  True,  True,  True,  True,  True,  True,  True,\n",
       "        True,  True,  True,  True,  True,  True,  True,  True,  True,\n",
       "        True,  True,  True,  True,  True,  True,  True,  True,  True,\n",
       "        True,  True,  True,  True,  True,  True,  True,  True,  True,\n",
       "        True,  True,  True,  True,  True,  True,  True,  True,  True,\n",
       "        True,  True,  True,  True,  True,  True,  True,  True,  True,\n",
       "        True,  True,  True,  True,  True,  True,  True,  True,  True,\n",
       "        True,  True,  True,  True,  True,  True,  True,  True,  True,\n",
       "        True,  True,  True,  True,  True,  True,  True,  True,  True,\n",
       "        True])"
      ]
     },
     "execution_count": 342,
     "metadata": {},
     "output_type": "execute_result"
    }
   ],
   "source": [
    "masyvas.copy() == masyvas"
   ]
  },
  {
   "cell_type": "code",
   "execution_count": 343,
   "metadata": {},
   "outputs": [
    {
     "data": {
      "text/plain": [
       "array([30, 33, 30, 30, 37, 44, 30, 58, 30, 30, 30, 30, 30, 30, 30, 30, 33,\n",
       "       38, 49, 48, 30, 45, 45, 31, 31, 33, 59, 30, 32, 46, 30, 30, 30, 30,\n",
       "       30, 30, 49, 30, 55, 33, 30, 52, 36, 48, 30, 30, 50, 49, 51, 42, 59,\n",
       "       33, 58, 40, 30, 37, 30, 50, 30, 46, 44, 39, 30, 41])"
      ]
     },
     "execution_count": 343,
     "metadata": {},
     "output_type": "execute_result"
    }
   ],
   "source": [
    "#filtravimas nuo 30 iki 60\n",
    "tarpinis = masyvas[masyvas >= 30]\n",
    "tarpinis[tarpinis < 60]"
   ]
  },
  {
   "cell_type": "markdown",
   "metadata": {},
   "source": [
    "# Matematines operacijos"
   ]
  },
  {
   "cell_type": "code",
   "execution_count": 344,
   "metadata": {},
   "outputs": [
    {
     "data": {
      "text/plain": [
       "array([ 1,  2,  3,  4,  5,  6,  7,  8,  9, 10])"
      ]
     },
     "execution_count": 344,
     "metadata": {},
     "output_type": "execute_result"
    }
   ],
   "source": [
    "vektorius = np.arange(1, 11, 1)\n",
    "vektorius"
   ]
  },
  {
   "cell_type": "code",
   "execution_count": 345,
   "metadata": {},
   "outputs": [
    {
     "data": {
      "text/plain": [
       "array([         1,          4,         27,        256,       3125,\n",
       "            46656,     823543,   16777216,  387420489, 1410065408])"
      ]
     },
     "execution_count": 345,
     "metadata": {},
     "output_type": "execute_result"
    }
   ],
   "source": [
    "vektorius**vektorius"
   ]
  },
  {
   "cell_type": "code",
   "execution_count": 346,
   "metadata": {},
   "outputs": [
    {
     "data": {
      "text/plain": [
       "array([   1,    8,   27,   64,  125,  216,  343,  512,  729, 1000],\n",
       "      dtype=int32)"
      ]
     },
     "execution_count": 346,
     "metadata": {},
     "output_type": "execute_result"
    }
   ],
   "source": [
    "vektorius**3"
   ]
  },
  {
   "cell_type": "code",
   "execution_count": 347,
   "metadata": {},
   "outputs": [
    {
     "data": {
      "text/plain": [
       "[5, 5, 8, 9, 3]"
      ]
     },
     "execution_count": 347,
     "metadata": {},
     "output_type": "execute_result"
    }
   ],
   "source": [
    "sarasas"
   ]
  },
  {
   "cell_type": "code",
   "execution_count": 348,
   "metadata": {},
   "outputs": [],
   "source": [
    "# sarasas**3 # su sarasu negalima atlykti skaiciavima"
   ]
  },
  {
   "cell_type": "code",
   "execution_count": 349,
   "metadata": {},
   "outputs": [
    {
     "data": {
      "text/plain": [
       "array([  1.,   4.,   9.,  16.,  25.,  36.,  49.,  64.,  81., 100.])"
      ]
     },
     "execution_count": 349,
     "metadata": {},
     "output_type": "execute_result"
    }
   ],
   "source": [
    "vektorius**3 / vektorius"
   ]
  },
  {
   "cell_type": "code",
   "execution_count": 350,
   "metadata": {},
   "outputs": [
    {
     "data": {
      "text/plain": [
       "array([10.1, 10.2, 10.3, 10.4, 10.5, 10.6, 10.7, 10.8, 10.9, 11. ])"
      ]
     },
     "execution_count": 350,
     "metadata": {},
     "output_type": "execute_result"
    }
   ],
   "source": [
    "(vektorius+100)/10"
   ]
  },
  {
   "cell_type": "code",
   "execution_count": 351,
   "metadata": {},
   "outputs": [
    {
     "name": "stderr",
     "output_type": "stream",
     "text": [
      "C:\\Users\\serge\\AppData\\Local\\Temp\\ipykernel_8428\\1628897937.py:1: RuntimeWarning: divide by zero encountered in divide\n",
      "  vektorius/0\n"
     ]
    },
    {
     "data": {
      "text/plain": [
       "array([inf, inf, inf, inf, inf, inf, inf, inf, inf, inf])"
      ]
     },
     "execution_count": 351,
     "metadata": {},
     "output_type": "execute_result"
    }
   ],
   "source": [
    "vektorius/0"
   ]
  },
  {
   "cell_type": "code",
   "execution_count": 352,
   "metadata": {},
   "outputs": [
    {
     "data": {
      "text/plain": [
       "array([ 0.84147098,  0.90929743,  0.14112001, -0.7568025 , -0.95892427,\n",
       "       -0.2794155 ,  0.6569866 ,  0.98935825,  0.41211849, -0.54402111])"
      ]
     },
     "execution_count": 352,
     "metadata": {},
     "output_type": "execute_result"
    }
   ],
   "source": [
    "np.sin(vektorius)\n"
   ]
  },
  {
   "cell_type": "code",
   "execution_count": 353,
   "metadata": {},
   "outputs": [
    {
     "data": {
      "text/plain": [
       "array([ 1.55740772, -2.18503986, -0.14254654,  1.15782128, -3.38051501,\n",
       "       -0.29100619,  0.87144798, -6.79971146, -0.45231566,  0.64836083])"
      ]
     },
     "execution_count": 353,
     "metadata": {},
     "output_type": "execute_result"
    }
   ],
   "source": [
    "np.tan(vektorius)"
   ]
  },
  {
   "cell_type": "code",
   "execution_count": 354,
   "metadata": {},
   "outputs": [
    {
     "data": {
      "text/plain": [
       "numpy.ndarray"
      ]
     },
     "execution_count": 354,
     "metadata": {},
     "output_type": "execute_result"
    }
   ],
   "source": [
    "type(vektorius)"
   ]
  },
  {
   "cell_type": "code",
   "execution_count": 355,
   "metadata": {},
   "outputs": [
    {
     "data": {
      "text/plain": [
       "array([0.        , 1.38629436, 2.19722458, 2.77258872, 3.21887582,\n",
       "       3.58351894, 3.8918203 , 4.15888308, 4.39444915, 4.60517019])"
      ]
     },
     "execution_count": 355,
     "metadata": {},
     "output_type": "execute_result"
    }
   ],
   "source": [
    "np.log(vektorius**2)"
   ]
  }
 ],
 "metadata": {
  "kernelspec": {
   "display_name": "Python 3.10.6 ('venv': venv)",
   "language": "python",
   "name": "python3"
  },
  "language_info": {
   "codemirror_mode": {
    "name": "ipython",
    "version": 3
   },
   "file_extension": ".py",
   "mimetype": "text/x-python",
   "name": "python",
   "nbconvert_exporter": "python",
   "pygments_lexer": "ipython3",
   "version": "3.10.6"
  },
  "orig_nbformat": 4,
  "vscode": {
   "interpreter": {
    "hash": "35df5f82ee76c7038a9e6c987acf65d3b80fea6e1f2e81d714ea46d977f6b370"
   }
  }
 },
 "nbformat": 4,
 "nbformat_minor": 2
}
