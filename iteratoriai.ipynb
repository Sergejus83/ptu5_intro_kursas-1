{
 "cells": [
  {
   "cell_type": "markdown",
   "metadata": {},
   "source": [
    "# Iteratoriai"
   ]
  },
  {
   "cell_type": "code",
   "execution_count": null,
   "metadata": {},
   "outputs": [
    {
     "name": "stdout",
     "output_type": "stream",
     "text": [
      "<class 'str_iterator'>\n"
     ]
    }
   ],
   "source": [
    "iteratorius = iter(\"Kėdė\")\n",
    "print(type(iteratorius))"
   ]
  },
  {
   "cell_type": "code",
   "execution_count": null,
   "metadata": {},
   "outputs": [
    {
     "name": "stdout",
     "output_type": "stream",
     "text": [
      "K\n"
     ]
    }
   ],
   "source": [
    "print(next(iteratorius))"
   ]
  },
  {
   "cell_type": "code",
   "execution_count": null,
   "metadata": {},
   "outputs": [
    {
     "name": "stdout",
     "output_type": "stream",
     "text": [
      "1\n",
      "2\n",
      "3\n",
      "4\n",
      "5\n"
     ]
    }
   ],
   "source": [
    "numeriai = [1, 2, 3, 4, 5]\n",
    "iterskai = iter(numeriai)\n",
    "while True:\n",
    "    try:\n",
    "        print(next(iterskai))\n",
    "    except StopIteration:\n",
    "        break"
   ]
  },
  {
   "cell_type": "code",
   "execution_count": null,
   "metadata": {},
   "outputs": [
    {
     "name": "stdout",
     "output_type": "stream",
     "text": [
      "1\n",
      "2\n",
      "3\n",
      "4\n",
      "5\n"
     ]
    }
   ],
   "source": [
    "numeriai = [1, 2, 3, 4, 5]\n",
    "for num in numeriai:\n",
    "    print(num)"
   ]
  },
  {
   "cell_type": "code",
   "execution_count": null,
   "metadata": {},
   "outputs": [],
   "source": []
  },
  {
   "cell_type": "markdown",
   "metadata": {},
   "source": [
    "### matojam atminti"
   ]
  },
  {
   "cell_type": "code",
   "execution_count": null,
   "metadata": {},
   "outputs": [
    {
     "name": "stdout",
     "output_type": "stream",
     "text": [
      "pmem(rss=84094976, vms=93294592, num_page_faults=35213, peak_wset=89088000, wset=84094976, peak_paged_pool=220152, paged_pool=220152, peak_nonpaged_pool=1257256, nonpaged_pool=89824, pagefile=93294592, peak_pagefile=93294592, private=93294592)\n"
     ]
    }
   ],
   "source": [
    "import os, psutil\n",
    "process = psutil.Process(os.getpid())\n",
    "print(process.memory_info())"
   ]
  },
  {
   "cell_type": "code",
   "execution_count": null,
   "metadata": {},
   "outputs": [],
   "source": [
    "def iteruoklis(objektas, func):\n",
    "    iteratorius = iter(objektas)\n",
    "    while True:\n",
    "        try:\n",
    "            result = next(iteratorius)\n",
    "        except StopIteration:\n",
    "            break\n",
    "        else:\n",
    "            func(result)"
   ]
  },
  {
   "cell_type": "code",
   "execution_count": null,
   "metadata": {},
   "outputs": [
    {
     "name": "stdout",
     "output_type": "stream",
     "text": [
      "jurgis\n",
      "antanas\n",
      "aloyzas\n",
      "martynas\n"
     ]
    }
   ],
   "source": [
    "broliai = ['jurgis', 'antanas', 'aloyzas', 'martynas']\n",
    "iteruoklis(broliai, print)"
   ]
  },
  {
   "cell_type": "code",
   "execution_count": null,
   "metadata": {},
   "outputs": [
    {
     "name": "stdout",
     "output_type": "stream",
     "text": [
      "1.0\n",
      "1.4142135623730951\n",
      "1.0\n",
      "4.58257569495584\n",
      "3.0\n",
      "1.4142135623730951\n"
     ]
    }
   ],
   "source": [
    "from math import sqrt\n",
    "def print_sqrt(sk):\n",
    "    print(sqrt(abs(sk)))\n",
    "sk = [1,2,1,21,-9, 2]\n",
    "iteruoklis(sk, print_sqrt)"
   ]
  },
  {
   "cell_type": "markdown",
   "metadata": {},
   "source": [
    "# Generatoriai"
   ]
  },
  {
   "cell_type": "code",
   "execution_count": null,
   "metadata": {},
   "outputs": [
    {
     "name": "stdout",
     "output_type": "stream",
     "text": [
      "pirmas:\n",
      "antras:\n"
     ]
    }
   ],
   "source": [
    "dic = {\"pirmas:\" :1, \"antras:\": 2}\n",
    "iteruoklis(dic, print)\n",
    "\n"
   ]
  },
  {
   "cell_type": "code",
   "execution_count": null,
   "metadata": {},
   "outputs": [],
   "source": [
    "def skaiciuojam_iki(iki):\n",
    "    count = 1\n",
    "    while count <= iki:\n",
    "        yield count\n",
    "        count +=1"
   ]
  },
  {
   "cell_type": "code",
   "execution_count": null,
   "metadata": {},
   "outputs": [],
   "source": [
    "counter = skaiciuojam_iki(5)"
   ]
  },
  {
   "cell_type": "code",
   "execution_count": null,
   "metadata": {},
   "outputs": [
    {
     "name": "stdout",
     "output_type": "stream",
     "text": [
      "2\n"
     ]
    }
   ],
   "source": [
    "print(next(counter))"
   ]
  },
  {
   "cell_type": "code",
   "execution_count": null,
   "metadata": {},
   "outputs": [
    {
     "name": "stdout",
     "output_type": "stream",
     "text": [
      "1\n",
      "2\n",
      "3\n",
      "4\n",
      "5\n",
      "6\n",
      "7\n"
     ]
    }
   ],
   "source": [
    "iteruoklis(skaiciuojam_iki(7), print)"
   ]
  },
  {
   "cell_type": "markdown",
   "metadata": {},
   "source": [
    "### atvirksciai"
   ]
  },
  {
   "cell_type": "code",
   "execution_count": null,
   "metadata": {},
   "outputs": [
    {
     "name": "stdout",
     "output_type": "stream",
     "text": [
      "[1, 2, 3, 4, 5, 6, 7, 8, 9, 10, 11]\n"
     ]
    }
   ],
   "source": [
    "sk = skaiciuojam_iki(11)\n",
    "print(list(sk))"
   ]
  },
  {
   "cell_type": "code",
   "execution_count": null,
   "metadata": {},
   "outputs": [
    {
     "name": "stdout",
     "output_type": "stream",
     "text": [
      "sk: 1\n",
      "sk: 2\n",
      "sk: 3\n",
      "sk: 4\n",
      "sk: 5\n",
      "sk: 6\n",
      "sk: 7\n",
      "sk: 8\n",
      "skaiciai:  [1, 2, 3, 4, 5, 6, 7, 8]\n"
     ]
    }
   ],
   "source": [
    "skaiciai = list(skaiciuojam_iki(8))\n",
    "for sk in skaiciai:\n",
    "    print(\"sk:\", sk)\n",
    "print(\"skaiciai: \", skaiciai)"
   ]
  },
  {
   "cell_type": "code",
   "execution_count": null,
   "metadata": {},
   "outputs": [
    {
     "name": "stdout",
     "output_type": "stream",
     "text": [
      "1\n",
      "2\n",
      "3\n",
      "[4, 5, 6, 7, 8, 9, 10]\n"
     ]
    }
   ],
   "source": [
    "counter = skaiciuojam_iki(10)\n",
    "print(next(counter))\n",
    "print(next(counter))\n",
    "print(next(counter))\n",
    "sarasas = list(counter)\n",
    "print(sarasas)"
   ]
  },
  {
   "cell_type": "code",
   "execution_count": null,
   "metadata": {},
   "outputs": [
    {
     "name": "stdout",
     "output_type": "stream",
     "text": [
      "<class 'generator'>\n",
      "1\n",
      "4\n",
      "9\n"
     ]
    }
   ],
   "source": [
    "g = (num**2 for num in range(1, 50))\n",
    "print(type(g))\n",
    "\n",
    "print(next(g))\n",
    "print(next(g))\n",
    "print(next(g))\n"
   ]
  },
  {
   "cell_type": "code",
   "execution_count": null,
   "metadata": {},
   "outputs": [
    {
     "name": "stdout",
     "output_type": "stream",
     "text": [
      "[0, 1, 4, 9, 16, 25, 36, 49, 64, 81]\n",
      "0\n",
      "1\n",
      "4\n",
      "9\n",
      "16\n",
      "25\n",
      "36\n",
      "49\n",
      "64\n",
      "81\n",
      "0.0\n",
      "1.0\n",
      "2.0\n",
      "3.0\n",
      "4.0\n",
      "5.0\n",
      "6.0\n",
      "7.0\n",
      "8.0\n",
      "9.0\n"
     ]
    }
   ],
   "source": [
    "gen = (x**2 for x in range(10))\n",
    "print(list(gen))\n",
    "\n",
    "gen = (x**2 for x in range(10))\n",
    "iteruoklis(gen , print)\n",
    "\n",
    "gen = (x**2 for x in range(10))\n",
    "iteruoklis(gen, print_sqrt)"
   ]
  },
  {
   "cell_type": "code",
   "execution_count": 88,
   "metadata": {},
   "outputs": [
    {
     "name": "stdout",
     "output_type": "stream",
     "text": [
      "5\n"
     ]
    }
   ],
   "source": [
    "def Fibonacci(n):\n",
    "   \n",
    "    # Check if input is 0 then it will\n",
    "    # print incorrect input\n",
    "    if n < 0:\n",
    "        print(\"Incorrect input\")\n",
    " \n",
    "    # Check if n is 0\n",
    "    # then it will return 0\n",
    "    elif n == 0:\n",
    "        return 0\n",
    " \n",
    "    # Check if n is 1,2\n",
    "    # it will return 1\n",
    "    elif n == 1 or n == 2:\n",
    "        return 1\n",
    " \n",
    "    else:\n",
    "        return Fibonacci(n-1) + Fibonacci(n-2)\n",
    " \n",
    "# Driver Program\n",
    "print(Fibonacci(5))\n",
    " \n",
    "# This code is contributed by Saket Modi\n",
    "# then corrected and improved by Himanshu Kanojiya"
   ]
  },
  {
   "cell_type": "markdown",
   "metadata": {},
   "source": [
    "# Uzduotis"
   ]
  },
  {
   "cell_type": "markdown",
   "metadata": {},
   "source": [
    "### 1 Parašykite generatorių, kuris kaskartą inicijuotas su funkcija next grąžintų sekantį porinį skaičių. Pirmas sk. 2, toliau 4 ir taip be pabaigos."
   ]
  },
  {
   "cell_type": "code",
   "execution_count": 211,
   "metadata": {},
   "outputs": [
    {
     "name": "stdout",
     "output_type": "stream",
     "text": [
      "2\n",
      "4\n",
      "6\n"
     ]
    }
   ],
   "source": [
    "generatorius = (sk for sk in range(2, 10000000000, 2))\n",
    "print(next(generatorius))\n",
    "print(next(generatorius))\n",
    "print(next(generatorius))\n"
   ]
  },
  {
   "cell_type": "code",
   "execution_count": 213,
   "metadata": {},
   "outputs": [
    {
     "name": "stdout",
     "output_type": "stream",
     "text": [
      "10\n"
     ]
    }
   ],
   "source": [
    "print(next(generatorius))"
   ]
  },
  {
   "cell_type": "code",
   "execution_count": 181,
   "metadata": {},
   "outputs": [
    {
     "name": "stdout",
     "output_type": "stream",
     "text": [
      "2\n",
      "3\n",
      "6\n"
     ]
    }
   ],
   "source": [
    "def skaiciuojam():\n",
    "    count = 2\n",
    "    while True:\n",
    "        yield count\n",
    "        count +=2\n",
    "\n",
    "skaiciai = skaiciuojam()\n",
    "\n",
    "print(next(skaiciai))\n",
    "print(next(skaiciai)-1)\n",
    "print(next(skaiciai))"
   ]
  },
  {
   "cell_type": "code",
   "execution_count": 180,
   "metadata": {},
   "outputs": [
    {
     "name": "stdout",
     "output_type": "stream",
     "text": [
      "16\n"
     ]
    }
   ],
   "source": [
    "print(next(skaiciai))"
   ]
  },
  {
   "cell_type": "markdown",
   "metadata": {},
   "source": [
    "### 2 Parašykite generatorų , kuris kas kartą generuotų po vieną Fibonačio sekos skaičių. (Seka prasideda šiais skaičiais: 0, 1, 1, 2, 3, 5, 8, 13, 21, 34, 55, 89, 144, 233. Kiekvienas šios sekos skaičius lygus dviejų prieš jį einančių skaičių sumai, daugiau google:) -->"
   ]
  },
  {
   "cell_type": "code",
   "execution_count": 42,
   "metadata": {},
   "outputs": [],
   "source": [
    "def fibonacio_gen():\n",
    "    # a,b=0,1\n",
    "    a=0 \n",
    "    b = 1\n",
    "    while True:\n",
    "        yield a # print a\n",
    "        a, b = b, a+b\n",
    "        # a = b not correct\n",
    "        # b = a+b not correct\n",
    "\n",
    "fibonacio_skaiciai = fibonacio_gen()"
   ]
  },
  {
   "cell_type": "code",
   "execution_count": 54,
   "metadata": {},
   "outputs": [
    {
     "name": "stdout",
     "output_type": "stream",
     "text": [
      "89\n"
     ]
    }
   ],
   "source": [
    "print(next(fibonacio_skaiciai))"
   ]
  },
  {
   "cell_type": "code",
   "execution_count": null,
   "metadata": {},
   "outputs": [],
   "source": [
    "def fib(): # not correct\n",
    "    a=0\n",
    "    b=1\n",
    "    while True:\n",
    "        c=a+b\n",
    "        a=b\n",
    "        b=c\n",
    "        yield c\n",
    "fibis=fib()\n"
   ]
  },
  {
   "cell_type": "code",
   "execution_count": null,
   "metadata": {},
   "outputs": [],
   "source": [
    "\n",
    "print(next(fibis))"
   ]
  },
  {
   "cell_type": "markdown",
   "metadata": {},
   "source": [
    "### 3. Įsivaizduokite, kad reikia nulaužti 4 skaitmenų pin kodą. Parašykite generatorių, kuris tikrins po viena kombinaciją, pradedant 0000, ir sustos, kai pin kodas bus teisingas. Pradėkite programą nuo (pvz.) PIN = '0549' ir rašykite toliau. Pabaigus funkciją, praiteruokite sukurtą generatorių su for ciklu, kad spausdintų skaičiukus iš eilės ir atspausdinus paskutinį, parašytų 'PIN is XXXX(jųsų pin'as)'. Atkreipkite dėmesį, kad kodas gali prasidėti nuliu. Sugalvokite, kaip apeiti šią problemą (hint - type conversion, if sąlygos)."
   ]
  },
  {
   "cell_type": "code",
   "execution_count": 343,
   "metadata": {},
   "outputs": [],
   "source": [
    "# generatorius = (sk for pin in range(0, 10000))\n",
    "# sk = 7871\n",
    "# pin = 0000\n",
    "# while pin in generatorius:\n",
    "#     if pin == sk:\n",
    "#         print(pin)\n",
    "#     else:\n",
    "#         print(\"pin error\")\n",
    "# print(list(generatorius))"
   ]
  },
  {
   "cell_type": "code",
   "execution_count": 6,
   "metadata": {},
   "outputs": [
    {
     "name": "stdout",
     "output_type": "stream",
     "text": [
      "ar lygu su: ?   0000\n",
      "ar lygu su: ?   0001\n",
      "ar lygu su: ?   0002\n",
      "ar lygu su: ?   0003\n",
      "ar lygu su: ?   0004\n",
      "ar lygu su: ?   0005\n",
      "ar lygu su: ?   0006\n",
      "ar lygu su: ?   0007\n",
      "ar lygu su: ?   0008\n",
      "ar lygu su: ?   0009\n",
      "ar lygu su: ?   0010\n",
      "ar lygu su: ?   0011\n",
      "ar lygu su: ?   0012\n",
      "ar lygu su: ?   0013\n",
      "ar lygu su: ?   0014\n",
      "ar lygu su: ?   0015\n",
      "ar lygu su: ?   0016\n",
      "ar lygu su: ?   0017\n",
      "ar lygu su: ?   0018\n",
      "ar lygu su: ?   0019\n",
      "ar lygu su: ?   0020\n",
      "ar lygu su: ?   0021\n",
      "ar lygu su: ?   0022\n",
      "ar lygu su: ?   0023\n",
      "ar lygu su: ?   0024\n",
      "ar lygu su: ?   0025\n",
      "ar lygu su: ?   0026\n",
      "ar lygu su: ?   0027\n",
      "ar lygu su: ?   0028\n",
      "ar lygu su: ?   0029\n",
      "ar lygu su: ?   0030\n",
      "ar lygu su: ?   0031\n",
      "ar lygu su: ?   0032\n",
      "ar lygu su: ?   0033\n",
      "ar lygu su: ?   0034\n",
      "ar lygu su: ?   0035\n",
      "ar lygu su: ?   0036\n",
      "ar lygu su: ?   0037\n",
      "ar lygu su: ?   0038\n",
      "ar lygu su: ?   0039\n",
      "ar lygu su: ?   0040\n",
      "ar lygu su: ?   0041\n",
      "ar lygu su: ?   0042\n",
      "ar lygu su: ?   0043\n",
      "ar lygu su: ?   0044\n",
      "ar lygu su: ?   0045\n",
      "ar lygu su: ?   0046\n",
      "ar lygu su: ?   0047\n",
      "ar lygu su: ?   0048\n",
      "ar lygu su: ?   0049\n",
      "ar lygu su: ?   0050\n",
      "ar lygu su: ?   0051\n",
      "ar lygu su: ?   0052\n",
      "ar lygu su: ?   0053\n",
      "ar lygu su: ?   0054\n",
      "ar lygu su: ?   0055\n",
      "ar lygu su: ?   0056\n",
      "ar lygu su: ?   0057\n",
      "ar lygu su: ?   0058\n",
      "ar lygu su: ?   0059\n",
      "ar lygu su: ?   0060\n",
      "ar lygu su: ?   0061\n",
      "ar lygu su: ?   0062\n",
      "ar lygu su: ?   0063\n",
      "ar lygu su: ?   0064\n",
      "ar lygu su: ?   0065\n",
      "ar lygu su: ?   0066\n",
      "ar lygu su: ?   0067\n",
      "ar lygu su: ?   0068\n",
      "ar lygu su: ?   0069\n",
      "ar lygu su: ?   0070\n",
      "ar lygu su: ?   0071\n",
      "ar lygu su: ?   0072\n",
      "ar lygu su: ?   0073\n",
      "ar lygu su: ?   0074\n",
      "ar lygu su: ?   0075\n",
      "ar lygu su: ?   0076\n",
      "ar lygu su: ?   0077\n",
      "ar lygu su: ?   0078\n",
      "ar lygu su: ?   0079\n",
      "ar lygu su: ?   0080\n",
      "ar lygu su: ?   0081\n",
      "ar lygu su: ?   0082\n",
      "ar lygu su: ?   0083\n",
      "ar lygu su: ?   0084\n",
      "ar lygu su: ?   0085\n",
      "ar lygu su: ?   0086\n",
      "ar lygu su: ?   0087\n",
      "ar lygu su: ?   0088\n",
      "ar lygu su: ?   0089\n",
      "ar lygu su: ?   0090\n",
      "ar lygu su: ?   0091\n",
      "ar lygu su: ?   0092\n",
      "ar lygu su: ?   0093\n",
      "ar lygu su: ?   0094\n",
      "ar lygu su: ?   0095\n",
      "ar lygu su: ?   0096\n",
      "ar lygu su: ?   0097\n",
      "ar lygu su: ?   0098\n",
      "ar lygu su: ?   0099\n",
      "ar lygu su: ?   0100\n",
      "ar lygu su: ?   0101\n",
      "ar lygu su: ?   0102\n",
      "ar lygu su: ?   0103\n",
      "ar lygu su: ?   0104\n",
      "ar lygu su: ?   0105\n",
      "ar lygu su: ?   0106\n",
      "ar lygu su: ?   0107\n",
      "ar lygu su: ?   0108\n",
      "ar lygu su: ?   0109\n",
      "ar lygu su: ?   0110\n",
      "ar lygu su: ?   0111\n",
      "ar lygu su: ?   0112\n",
      "ar lygu su: ?   0113\n",
      "ar lygu su: ?   0114\n",
      "ar lygu su: ?   0115\n",
      "ar lygu su: ?   0116\n",
      "ar lygu su: ?   0117\n",
      "ar lygu su: ?   0118\n",
      "ar lygu su: ?   0119\n",
      "ar lygu su: ?   0120\n",
      "ar lygu su: ?   0121\n",
      "ar lygu su: ?   0122\n",
      "ar lygu su: ?   0123\n",
      "ar lygu su: ?   0124\n",
      "ar lygu su: ?   0125\n",
      "ar lygu su: ?   0126\n",
      "ar lygu su: ?   0127\n",
      "ar lygu su: ?   0128\n",
      "ar lygu su: ?   0129\n",
      "ar lygu su: ?   0130\n",
      "ar lygu su: ?   0131\n",
      "ar lygu su: ?   0132\n",
      "ar lygu su: ?   0133\n",
      "ar lygu su: ?   0134\n",
      "ar lygu su: ?   0135\n",
      "ar lygu su: ?   0136\n",
      "ar lygu su: ?   0137\n",
      "ar lygu su: ?   0138\n",
      "ar lygu su: ?   0139\n",
      "ar lygu su: ?   0140\n",
      "ar lygu su: ?   0141\n",
      "ar lygu su: ?   0142\n",
      "ar lygu su: ?   0143\n",
      "ar lygu su: ?   0144\n",
      "ar lygu su: ?   0145\n",
      "ar lygu su: ?   0146\n",
      "ar lygu su: ?   0147\n",
      "ar lygu su: ?   0148\n",
      "ar lygu su: ?   0149\n",
      "ar lygu su: ?   0150\n",
      "ar lygu su: ?   0151\n",
      "ar lygu su: ?   0152\n",
      "ar lygu su: ?   0153\n",
      "ar lygu su: ?   0154\n",
      "ar lygu su: ?   0155\n",
      "ar lygu su: ?   0156\n",
      "ar lygu su: ?   0157\n",
      "ar lygu su: ?   0158\n",
      "ar lygu su: ?   0159\n",
      "ar lygu su: ?   0160\n",
      "ar lygu su: ?   0161\n",
      "ar lygu su: ?   0162\n",
      "ar lygu su: ?   0163\n",
      "ar lygu su: ?   0164\n",
      "ar lygu su: ?   0165\n",
      "ar lygu su: ?   0166\n",
      "ar lygu su: ?   0167\n",
      "ar lygu su: ?   0168\n",
      "ar lygu su: ?   0169\n",
      "ar lygu su: ?   0170\n",
      "ar lygu su: ?   0171\n",
      "ar lygu su: ?   0172\n",
      "ar lygu su: ?   0173\n",
      "ar lygu su: ?   0174\n",
      "ar lygu su: ?   0175\n",
      "ar lygu su: ?   0176\n",
      "ar lygu su: ?   0177\n",
      "ar lygu su: ?   0178\n",
      "ar lygu su: ?   0179\n",
      "ar lygu su: ?   0180\n",
      "ar lygu su: ?   0181\n",
      "ar lygu su: ?   0182\n",
      "ar lygu su: ?   0183\n",
      "ar lygu su: ?   0184\n",
      "ar lygu su: ?   0185\n",
      "ar lygu su: ?   0186\n",
      "ar lygu su: ?   0187\n",
      "ar lygu su: ?   0188\n",
      "ar lygu su: ?   0189\n",
      "ar lygu su: ?   0190\n",
      "ar lygu su: ?   0191\n",
      "ar lygu su: ?   0192\n",
      "ar lygu su: ?   0193\n",
      "ar lygu su: ?   0194\n",
      "ar lygu su: ?   0195\n",
      "ar lygu su: ?   0196\n",
      "ar lygu su: ?   0197\n",
      "ar lygu su: ?   0198\n",
      "ar lygu su: ?   0199\n",
      "ar lygu su: ?   0200\n",
      "ar lygu su: ?   0201\n",
      "ar lygu su: ?   0202\n",
      "ar lygu su: ?   0203\n",
      "ar lygu su: ?   0204\n",
      "ar lygu su: ?   0205\n",
      "ar lygu su: ?   0206\n",
      "ar lygu su: ?   0207\n",
      "ar lygu su: ?   0208\n",
      "ar lygu su: ?   0209\n",
      "ar lygu su: ?   0210\n",
      "ar lygu su: ?   0211\n",
      "ar lygu su: ?   0212\n",
      "ar lygu su: ?   0213\n",
      "ar lygu su: ?   0214\n",
      "ar lygu su: ?   0215\n",
      "ar lygu su: ?   0216\n",
      "ar lygu su: ?   0217\n",
      "ar lygu su: ?   0218\n",
      "ar lygu su: ?   0219\n",
      "ar lygu su: ?   0220\n",
      "ar lygu su: ?   0221\n",
      "ar lygu su: ?   0222\n",
      "ar lygu su: ?   0223\n",
      "ar lygu su: ?   0224\n",
      "ar lygu su: ?   0225\n",
      "ar lygu su: ?   0226\n",
      "ar lygu su: ?   0227\n",
      "ar lygu su: ?   0228\n",
      "ar lygu su: ?   0229\n",
      "ar lygu su: ?   0230\n",
      "ar lygu su: ?   0231\n",
      "ar lygu su: ?   0232\n",
      "ar lygu su: ?   0233\n",
      "ar lygu su: ?   0234\n",
      "ar lygu su: ?   0235\n",
      "ar lygu su: ?   0236\n",
      "ar lygu su: ?   0237\n",
      "ar lygu su: ?   0238\n",
      "ar lygu su: ?   0239\n",
      "ar lygu su: ?   0240\n",
      "ar lygu su: ?   0241\n",
      "ar lygu su: ?   0242\n",
      "ar lygu su: ?   0243\n",
      "ar lygu su: ?   0244\n",
      "ar lygu su: ?   0245\n",
      "ar lygu su: ?   0246\n",
      "ar lygu su: ?   0247\n",
      "ar lygu su: ?   0248\n",
      "ar lygu su: ?   0249\n",
      "ar lygu su: ?   0250\n",
      "ar lygu su: ?   0251\n",
      "ar lygu su: ?   0252\n",
      "ar lygu su: ?   0253\n",
      "ar lygu su: ?   0254\n",
      "ar lygu su: ?   0255\n",
      "ar lygu su: ?   0256\n",
      "ar lygu su: ?   0257\n",
      "ar lygu su: ?   0258\n",
      "ar lygu su: ?   0259\n",
      "ar lygu su: ?   0260\n",
      "ar lygu su: ?   0261\n",
      "ar lygu su: ?   0262\n",
      "ar lygu su: ?   0263\n",
      "ar lygu su: ?   0264\n",
      "ar lygu su: ?   0265\n",
      "ar lygu su: ?   0266\n",
      "ar lygu su: ?   0267\n",
      "ar lygu su: ?   0268\n",
      "ar lygu su: ?   0269\n",
      "ar lygu su: ?   0270\n",
      "ar lygu su: ?   0271\n",
      "ar lygu su: ?   0272\n",
      "ar lygu su: ?   0273\n",
      "ar lygu su: ?   0274\n",
      "ar lygu su: ?   0275\n",
      "ar lygu su: ?   0276\n",
      "ar lygu su: ?   0277\n",
      "ar lygu su: ?   0278\n",
      "ar lygu su: ?   0279\n",
      "ar lygu su: ?   0280\n",
      "ar lygu su: ?   0281\n",
      "ar lygu su: ?   0282\n",
      "ar lygu su: ?   0283\n",
      "ar lygu su: ?   0284\n",
      "ar lygu su: ?   0285\n",
      "ar lygu su: ?   0286\n",
      "ar lygu su: ?   0287\n",
      "ar lygu su: ?   0288\n",
      "ar lygu su: ?   0289\n",
      "ar lygu su: ?   0290\n",
      "ar lygu su: ?   0291\n",
      "ar lygu su: ?   0292\n",
      "ar lygu su: ?   0293\n",
      "ar lygu su: ?   0294\n",
      "ar lygu su: ?   0295\n",
      "ar lygu su: ?   0296\n",
      "ar lygu su: ?   0297\n",
      "ar lygu su: ?   0298\n",
      "ar lygu su: ?   0299\n",
      "ar lygu su: ?   0300\n",
      "ar lygu su: ?   0301\n",
      "ar lygu su: ?   0302\n",
      "PIN kodas yra: 0302\n",
      "is viso:  10000  vnt\n"
     ]
    }
   ],
   "source": [
    "gen = (f\"{num:04}\" for num in range(10000))\n",
    "pin_list = list(gen)\n",
    "for pin in pin_list:\n",
    "    print(\"ar lygu su: ?  \",pin)\n",
    "    if pin == \"0302\":\n",
    "        print(f\"PIN kodas yra: {pin}\")\n",
    "        break\n",
    "print(\"is viso: \", len(pin_list), \" vnt\")"
   ]
  },
  {
   "cell_type": "code",
   "execution_count": 393,
   "metadata": {},
   "outputs": [
    {
     "name": "stdout",
     "output_type": "stream",
     "text": [
      "<class 'str'> 000\n",
      "<class 'str'> 0\n",
      "3\n",
      "1\n",
      "0\n",
      "<class 'str'> 0000\n",
      "0000\n"
     ]
    }
   ],
   "source": [
    "guess=-0\n",
    "res = (\"0\" * (4 - (len(str(guess))))) + str(guess)\n",
    "tarp_rez = 4 - (len(str(guess)))\n",
    "nuliai = \"0\" * 3\n",
    "\n",
    "print(type(nuliai), nuliai)\n",
    "print(type(str(guess)), str(guess))\n",
    "print(tarp_rez)\n",
    "print(len(str(guess)))\n",
    "print(str(guess))\n",
    "print (type(res), res)\n",
    "print(res)"
   ]
  },
  {
   "cell_type": "code",
   "execution_count": 3,
   "metadata": {},
   "outputs": [
    {
     "name": "stdout",
     "output_type": "stream",
     "text": [
      "0000\n",
      "0001\n",
      "0002\n",
      "0003\n",
      "0004\n",
      "0005\n",
      "0006\n",
      "0007\n",
      "0008\n",
      "0009\n",
      "0010\n",
      "0011\n",
      "0012\n",
      "0013\n",
      "0014\n",
      "0015\n",
      "0016\n",
      "0017\n",
      "0018\n",
      "0019\n",
      "0020\n",
      "0021\n",
      "0022\n",
      "PIN is 0023\n"
     ]
    }
   ],
   "source": [
    "#Tarkime, kad teisingas pin yra 0123\n",
    "\n",
    "# pin = '0105'\n",
    "\n",
    "def pin_breaker(pin):\n",
    "    guess = 0\n",
    "    while True:\n",
    "        res = (\"0\" * (4 - (len(str(guess))))) + str(guess)\n",
    "        if res == pin:\n",
    "            print(f\"PIN is {res}\")\n",
    "            break\n",
    "        yield res\n",
    "        guess += 1\n",
    "\n",
    "generator = pin_breaker('0023')\n",
    "for found_pin in generator:\n",
    "    #Čia irgi galime įterpti logiką, kad spausdintų nulius prieky\n",
    "    print(found_pin)"
   ]
  },
  {
   "cell_type": "code",
   "execution_count": 418,
   "metadata": {},
   "outputs": [
    {
     "name": "stdout",
     "output_type": "stream",
     "text": [
      "0000\n"
     ]
    }
   ],
   "source": [
    "print(res)"
   ]
  },
  {
   "cell_type": "code",
   "execution_count": 4,
   "metadata": {},
   "outputs": [
    {
     "name": "stdout",
     "output_type": "stream",
     "text": [
      "0\n",
      "1\n",
      "2\n",
      "3\n",
      "4\n",
      "5\n",
      "6\n",
      "7\n",
      "8\n",
      "9\n",
      "10\n",
      "11\n",
      "12\n",
      "13\n",
      "14\n",
      "15\n",
      "16\n",
      "17\n",
      "18\n",
      "19\n",
      "20\n",
      "21\n",
      "22\n",
      "23\n",
      "24\n",
      "25\n",
      "26\n",
      "27\n",
      "28\n",
      "29\n",
      "30\n",
      "31\n",
      "32\n",
      "33\n",
      "34\n",
      "35\n",
      "36\n",
      "37\n",
      "38\n",
      "39\n",
      "40\n",
      "41\n",
      "42\n",
      "43\n",
      "44\n",
      "45\n",
      "46\n",
      "47\n",
      "48\n",
      "49\n",
      "50\n",
      "51\n",
      "52\n",
      "53\n",
      "54\n",
      "55\n",
      "56\n",
      "57\n",
      "58\n",
      "59\n",
      "60\n",
      "61\n",
      "62\n",
      "63\n",
      "64\n",
      "65\n",
      "66\n",
      "67\n",
      "68\n",
      "69\n",
      "70\n",
      "71\n",
      "72\n",
      "73\n",
      "74\n",
      "75\n",
      "76\n",
      "77\n",
      "78\n",
      "79\n",
      "80\n",
      "81\n",
      "82\n",
      "83\n",
      "84\n",
      "85\n",
      "86\n",
      "87\n",
      "88\n",
      "89\n",
      "90\n",
      "91\n",
      "92\n",
      "93\n",
      "94\n",
      "95\n",
      "96\n",
      "97\n",
      "98\n",
      "99\n",
      "100\n",
      "101\n",
      "102\n",
      "103\n",
      "104\n",
      "105\n",
      "106\n",
      "107\n",
      "108\n",
      "109\n",
      "110\n",
      "111\n",
      "112\n",
      "113\n",
      "114\n",
      "115\n",
      "116\n",
      "117\n",
      "118\n",
      "119\n",
      "120\n",
      "121\n",
      "122\n",
      "123\n",
      "PIN is 0123!\n"
     ]
    }
   ],
   "source": [
    "#Tarkime, kad teisingas pin yra 0123\n",
    "PIN = '0123'\n",
    "\n",
    "def pin_breaker():\n",
    "    guess = 0\n",
    "    while True:\n",
    "        yield guess\n",
    "        if guess == int(PIN):\n",
    "            if len(str(guess)) < 4:\n",
    "                if len(str(guess)) == 3:\n",
    "                    print(f'PIN is 0{guess}!')\n",
    "                elif len(str(guess)) == 2:\n",
    "                    print(f'PIN is 00{guess}!')\n",
    "                else:\n",
    "                    print(f'PIN is 000{guess}!')\n",
    "            else:\n",
    "                print(f'PIN is {guess}!')\n",
    "            break\n",
    "        guess += 1\n",
    "\n",
    "\n",
    "generator = pin_breaker()\n",
    "for num in generator:\n",
    "    #Čia irgi galime įterpti logiką, kad spausdintų nulius prieky\n",
    "    print(num)"
   ]
  },
  {
   "cell_type": "markdown",
   "metadata": {},
   "source": [
    "### 4 Parašykite generatoriaus funkciją, kuri atidarytų nurodytą failą, ir grąžintų po vieną eilutę (tiesiog yield'inti reikės ne skaičių o kitą duomenų tipą.). Reikės prisiminti darbą su failais :)"
   ]
  },
  {
   "cell_type": "code",
   "execution_count": 211,
   "metadata": {},
   "outputs": [],
   "source": [
    "from PIL import Image\n",
    "import os\n",
    "def atidaryti_faila(aplanka):\n",
    "    failu_sarasas = os.listdir(aplanka)\n",
    "    # failas = open('img/tekstas.txt')\n",
    "\n",
    "    print(failu_sarasas)\n",
    "    "
   ]
  },
  {
   "cell_type": "code",
   "execution_count": 212,
   "metadata": {},
   "outputs": [
    {
     "name": "stdout",
     "output_type": "stream",
     "text": [
      "['apdorotos_picures', 'comments.docx', 'logo.png', 'logo_cut.png', 'logo_cut_modified.png', 'nenormaliai.jpg', 'normaliai.jpg', 'pdf.pdf', 'pont_au_mousson.jpg', 'problem.log', 'pyth.png', 'stars.png', 'stars_apdorotas.png', 'stars_modified.png', 's_bykovas.jpg', 's_bykovas_modified.jpg', 'tekstas.txt']\n"
     ]
    }
   ],
   "source": [
    "atidaryti_faila(aplanka=\"img\")"
   ]
  },
  {
   "cell_type": "code",
   "execution_count": 210,
   "metadata": {},
   "outputs": [
    {
     "name": "stdout",
     "output_type": "stream",
     "text": [
      "1 The Zen \n",
      "1 The Zen of Python, by Tim Peters\n",
      "\n",
      "2 Beautifu\n",
      "2 Beautiful is better than ugly.\n",
      "\n",
      "3 Explicit\n",
      "3 Explicit is better than implicit.\n",
      "\n",
      "4 Simple i\n",
      "4 Simple is better than complex.\n",
      "\n",
      "5 Complex \n",
      "5 Complex is better than complicated.\n",
      "\n",
      "6 Flat is \n",
      "6 Flat is better than nested.\n",
      "\n",
      "7 Sparse i\n",
      "7 Sparse is better than dense.\n",
      "\n",
      "8 Readabil\n",
      "8 Readability counts.\n",
      "\n",
      "9 Special \n",
      "9 Special cases aren't special enough to break the rules.\n",
      "\n",
      "10 Althoug\n",
      "10 Although practicality beats purity.\n",
      "\n",
      "11 Errors \n",
      "11 Errors should never pass silently.\n",
      "\n",
      "12 Unless \n",
      "12 Unless explicitly silenced.\n",
      "\n",
      "13 In the \n",
      "13 In the face of ambiguity, refuse the temptation to guess.\n",
      "\n",
      "14 There s\n",
      "14 There should be one-- and preferably only one --obvious way to do it.\n",
      "\n",
      "15 Althoug\n",
      "15 Although that way may not be obvious at first unless you're Dutch.\n",
      "\n",
      "16 Now is \n",
      "16 Now is better than never.\n",
      "\n",
      "17 Althoug\n",
      "17 Although never is often better than *right* now.\n",
      "\n",
      "18 If the \n",
      "18 If the implementation is hard to explain, it's a bad idea.\n",
      "\n",
      "19 If the \n",
      "19 If the implementation is easy to explain, it may be a good idea.\n",
      "\n",
      "20 Namespa\n",
      "20 Namespaces are one honking great idea -- let's do more of those!2022-09-13 13:15:27.559932\n"
     ]
    }
   ],
   "source": [
    "def read_in_lines(filename):\n",
    "    with open(filename, 'r', encoding=\"utf-8\") as file:\n",
    "        for line in file:\n",
    "            yield line[0:] [:10]\n",
    "            yield line[0:] #[:-1]\n",
    "#generator = read_in_lines('img/tekstas.txt')\n",
    "\n",
    "for text in read_in_lines('img/tekstas.txt'):\n",
    "    print(text)"
   ]
  }
 ],
 "metadata": {
  "kernelspec": {
   "display_name": "Python 3.10.6 ('venv': venv)",
   "language": "python",
   "name": "python3"
  },
  "language_info": {
   "codemirror_mode": {
    "name": "ipython",
    "version": 3
   },
   "file_extension": ".py",
   "mimetype": "text/x-python",
   "name": "python",
   "nbconvert_exporter": "python",
   "pygments_lexer": "ipython3",
   "version": "3.10.6"
  },
  "orig_nbformat": 4,
  "vscode": {
   "interpreter": {
    "hash": "35df5f82ee76c7038a9e6c987acf65d3b80fea6e1f2e81d714ea46d977f6b370"
   }
  }
 },
 "nbformat": 4,
 "nbformat_minor": 2
}
