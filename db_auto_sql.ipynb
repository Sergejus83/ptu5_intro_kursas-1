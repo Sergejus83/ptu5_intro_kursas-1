{
 "cells": [
  {
   "cell_type": "code",
   "execution_count": 2,
   "metadata": {},
   "outputs": [],
   "source": [
    "# 1 Sukurkite duomenų bazę, kurioje būtų lentelė su automobilio marke, modeliu, spalva, pagaminimo metais, ir kaina. \n",
    "# Lentelės sukūrimo ir užpildymo duomenimis užklausas galite pasigaminti mockaroo.com"
   ]
  },
  {
   "cell_type": "code",
   "execution_count": 3,
   "metadata": {},
   "outputs": [],
   "source": [
    "import sqlite3"
   ]
  },
  {
   "cell_type": "code",
   "execution_count": 22,
   "metadata": {},
   "outputs": [],
   "source": [
    "connector = sqlite3.connect('data_auto/auto.db')\n",
    "cursor = connector.cursor()\n",
    "\n",
    "query = '''\n",
    "    CREATE TABLE IF NOT EXISTS auto (\n",
    "    auto_marke VARCHAR(50),\n",
    "    modelis VARCHAR(50),\n",
    "    spalva VARCHAR(50),\n",
    "    metai INTEGER,\n",
    "    kaina FLOAT DETSIMAL(10,2)\n",
    ");\n",
    "'''\n",
    "cursor.execute(query)\n",
    "connector.commit()\n",
    "connector.close()\n"
   ]
  },
  {
   "cell_type": "code",
   "execution_count": 21,
   "metadata": {},
   "outputs": [],
   "source": [
    "# sujungimas su Dumenu Base\n",
    "connector = sqlite3.connect(\"data_auto/auto.db\")"
   ]
  }
 ],
 "metadata": {
  "kernelspec": {
   "display_name": "Python 3.10.6 ('venv': venv)",
   "language": "python",
   "name": "python3"
  },
  "language_info": {
   "codemirror_mode": {
    "name": "ipython",
    "version": 3
   },
   "file_extension": ".py",
   "mimetype": "text/x-python",
   "name": "python",
   "nbconvert_exporter": "python",
   "pygments_lexer": "ipython3",
   "version": "3.10.6"
  },
  "orig_nbformat": 4,
  "vscode": {
   "interpreter": {
    "hash": "35df5f82ee76c7038a9e6c987acf65d3b80fea6e1f2e81d714ea46d977f6b370"
   }
  }
 },
 "nbformat": 4,
 "nbformat_minor": 2
}
