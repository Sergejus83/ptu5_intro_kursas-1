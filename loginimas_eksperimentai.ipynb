{
 "cells": [
  {
   "cell_type": "code",
   "execution_count": 1,
   "metadata": {},
   "outputs": [],
   "source": [
    "def dalyba(a, b):\n",
    "    try:\n",
    "        res = a / b\n",
    "    except Exception as e:\n",
    "        print(e, e.__class__)\n",
    "    else:\n",
    "        print(f\"dalyba: {a} / {b} = {res}\")\n",
    "        return res\n"
   ]
  },
  {
   "cell_type": "code",
   "execution_count": 2,
   "metadata": {},
   "outputs": [],
   "source": [
    "import logging\n",
    "logging.basicConfig(level=logging.DEBUG)\n",
    "\n",
    "def dalyba(a, b):\n",
    "    try:\n",
    "        res = a / b\n",
    "    except Exception as e:\n",
    "        logging.exception(str(e)+str(e.__class__))\n",
    "    else:\n",
    "        logging.info(f\"dalyba: {a} / {b} = {res}\")\n",
    "        return res\n"
   ]
  },
  {
   "cell_type": "code",
   "execution_count": 3,
   "metadata": {},
   "outputs": [
    {
     "name": "stderr",
     "output_type": "stream",
     "text": [
      "INFO:root:dalyba: 7 / 3 = 2.3333333333333335\n"
     ]
    },
    {
     "data": {
      "text/plain": [
       "2.3333333333333335"
      ]
     },
     "execution_count": 3,
     "metadata": {},
     "output_type": "execute_result"
    }
   ],
   "source": [
    "dalyba(7, 3)"
   ]
  },
  {
   "cell_type": "code",
   "execution_count": 4,
   "metadata": {},
   "outputs": [
    {
     "name": "stderr",
     "output_type": "stream",
     "text": [
      "ERROR:root:division by zero<class 'ZeroDivisionError'>\n",
      "Traceback (most recent call last):\n",
      "  File \"/tmp/ipykernel_11959/2313329322.py\", line 6, in dalyba\n",
      "    res = a / b\n",
      "ZeroDivisionError: division by zero\n"
     ]
    }
   ],
   "source": [
    "dalyba(7, 0)"
   ]
  }
 ],
 "metadata": {
  "kernelspec": {
   "display_name": "Python 3.8.10 ('venv': venv)",
   "language": "python",
   "name": "python3"
  },
  "language_info": {
   "codemirror_mode": {
    "name": "ipython",
    "version": 3
   },
   "file_extension": ".py",
   "mimetype": "text/x-python",
   "name": "python",
   "nbconvert_exporter": "python",
   "pygments_lexer": "ipython3",
   "version": "3.8.10"
  },
  "orig_nbformat": 4,
  "vscode": {
   "interpreter": {
    "hash": "a2cddde078377394000f0627eefad8bfa1b68388b6babd3050c29259627b7066"
   }
  }
 },
 "nbformat": 4,
 "nbformat_minor": 2
}
