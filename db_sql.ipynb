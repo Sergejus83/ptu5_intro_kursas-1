{
 "cells": [
  {
   "cell_type": "code",
   "execution_count": 73,
   "metadata": {},
   "outputs": [],
   "source": [
    "import sqlite3"
   ]
  },
  {
   "cell_type": "code",
   "execution_count": 74,
   "metadata": {},
   "outputs": [],
   "source": [
    "connector = sqlite3.connect('data_20221013/zmones.db')\n",
    "cursor = connector.cursor()\n",
    "\n",
    "query = '''\n",
    "    CREATE TABLE IF NOT EXISTS draugai (\n",
    "    first_name VARCHAR(50),\n",
    "    last_name VARCHAR(100),\n",
    "    email VARCHAR(100)\n",
    ")\n",
    "'''\n",
    "cursor.execute(query)\n",
    "connector.commit()\n",
    "connector.close()\n"
   ]
  },
  {
   "cell_type": "code",
   "execution_count": 75,
   "metadata": {},
   "outputs": [],
   "source": [
    "# sujungimas su Dumenu Base\n",
    "connector = sqlite3.connect(\"data_20221013/zmones.db\")\n"
   ]
  },
  {
   "cell_type": "code",
   "execution_count": 85,
   "metadata": {},
   "outputs": [],
   "source": [
    "# duomenu iterpimas\n",
    "query = ''' \n",
    "INSERT INTO draugai\n",
    "(first_name, last_name, email)\n",
    "VALUES\n",
    "(\"Sergejus\", \"Bykovas\", \"sb@gmail.com\")\n",
    "'''\n",
    "\n",
    "\n",
    "#  context manager atidaro DB, atlieka reikiamus commit , ir uzdaro\n",
    "with connector:\n",
    "    connector.cursor().execute(query)\n"
   ]
  },
  {
   "cell_type": "code",
   "execution_count": 77,
   "metadata": {},
   "outputs": [
    {
     "name": "stdout",
     "output_type": "stream",
     "text": [
      "('Hello', 'Gerulis', 'gerulis@gmail.com')\n"
     ]
    }
   ],
   "source": [
    "# skaitom DB po viena su .fetchone\n",
    "with connector:\n",
    "    # kursoriu reikia pasiimti i kintamaji, nes jame nugula rezultato generatorius\n",
    "    cursor = connector.cursor()\n",
    "    cursor.execute(\"SELECT * From draugai;\")\n",
    "    print(cursor.fetchone()) "
   ]
  },
  {
   "cell_type": "code",
   "execution_count": 78,
   "metadata": {},
   "outputs": [
    {
     "name": "stdout",
     "output_type": "stream",
     "text": [
      "[('Hello', 'Gerulis', 'gerulis@gmail.com'),\n",
      " ('Sergejus', 'Bykovas ', 'sb@gmail.com'),\n",
      " ('Blogas', 'Geras ', 'bg@mail.com'),\n",
      " ('Petras', 'Petraitis', 'petras@gmail.com'),\n",
      " ('Justas', '\"', 'ooo@mail.com'),\n",
      " ('Naujas', 'Draugelis', 'naujas@mail.lt'),\n",
      " ('Nauja', 'Draugele', 'nauja@mail.lt'),\n",
      " ('Jaunas', 'Jaunuolis', 'najokas@mail.lt'),\n",
      " ('Sergejus', 'Bykovas', 'sb@gmail.com')]\n"
     ]
    }
   ],
   "source": [
    "# nuskaitome duomenys i sarasa suo .fetchall()\n",
    "from pprint import pprint\n",
    "with connector:\n",
    "    cursor = connector.cursor()\n",
    "    cursor.execute(\"SELECT * From draugai;\")\n",
    "    pprint(cursor.fetchall()) # ima visus"
   ]
  },
  {
   "cell_type": "code",
   "execution_count": 79,
   "metadata": {},
   "outputs": [
    {
     "name": "stdout",
     "output_type": "stream",
     "text": [
      "[('Hello', 'Gerulis', 'gerulis@gmail.com')]\n"
     ]
    }
   ],
   "source": [
    "# taisome (istrinome)\n",
    "with connector:\n",
    "    cursor =connector.cursor()\n",
    "    cursor.execute(\"DELETE FROM draugai WHERE rowid > 1;\")\n",
    "    cursor.execute(\"SELECT * FROM draugai;\")\n",
    "    print(cursor.fetchall())\n",
    "\n"
   ]
  },
  {
   "cell_type": "code",
   "execution_count": 80,
   "metadata": {},
   "outputs": [
    {
     "name": "stdout",
     "output_type": "stream",
     "text": [
      "[('Hello', 'Gerulis', 'gerulis@gmail.com')]\n"
     ]
    }
   ],
   "source": [
    "# irasu atnaujinimas\n",
    "with connector:\n",
    "    cursor =connector.cursor()\n",
    "    cursor.execute(\"UPDATE draugai SET first_name ='Hello' WHERE last_name ='Gerulis'\")\n",
    "    cursor.execute(\"SELECT * FROM draugai;\")\n",
    "    print(cursor.fetchall())\n"
   ]
  },
  {
   "cell_type": "code",
   "execution_count": 81,
   "metadata": {},
   "outputs": [],
   "source": [
    "nauji_draugai = [\n",
    "    ('Naujas', 'Draugelis', 'naujas@mail.lt'),\n",
    "        ('Nauja', 'Draugele', 'nauja@mail.lt'),\n",
    "    ('Jaunas', 'Jaunuolis', 'najokas@mail.lt'),\n",
    "\n",
    "]\n",
    "with connector:\n",
    "    cursor = connector.cursor()\n",
    "    cursor.executemany('INSERT INTO draugai VALUES (?, ?, ?)', (nauji_draugai))"
   ]
  },
  {
   "cell_type": "code",
   "execution_count": 82,
   "metadata": {},
   "outputs": [
    {
     "name": "stdout",
     "output_type": "stream",
     "text": [
      "-(1, 'Hello', 'Gerulis', 'gerulis@gmail.com')\n",
      "-(2, 'Naujas', 'Draugelis', 'naujas@mail.lt')\n",
      "-(3, 'Nauja', 'Draugele', 'nauja@mail.lt')\n",
      "-(4, 'Jaunas', 'Jaunuolis', 'najokas@mail.lt')\n"
     ]
    }
   ],
   "source": [
    "with connector:\n",
    "    cursor = connector.cursor()\n",
    "    cursor.execute('SELECT rowid, * FROM draugai WHERE rowid')\n",
    "    draugai = cursor.fetchall()\n",
    "    for draugas in draugai:\n",
    "        print(f'-{draugas}')\n"
   ]
  },
  {
   "cell_type": "code",
   "execution_count": 83,
   "metadata": {},
   "outputs": [],
   "source": [
    "with connector:\n",
    "    cursor = connector.cursor()\n",
    "    cursor.execute('SELECT rowid, * FROM draugai WHERE rowid > 5')\n",
    "    draugai = cursor.fetchall()\n",
    "    for draugas in draugai:\n",
    "        print(f'-{draugas}')\n"
   ]
  },
  {
   "cell_type": "code",
   "execution_count": 84,
   "metadata": {},
   "outputs": [
    {
     "name": "stdout",
     "output_type": "stream",
     "text": [
      "-(2, 'Naujas', 'Draugelis', 'naujas@mail.lt')\n",
      "-(3, 'Nauja', 'Draugele', 'nauja@mail.lt')\n"
     ]
    }
   ],
   "source": [
    "ids = (2, 3, 5, 8)\n",
    "\n",
    "with connector:\n",
    "    cursor = connector.cursor()\n",
    "    cursor.execute('SELECT rowid, * FROM draugai WHERE rowid IN (?, ?, ?, ?)', ids)\n",
    "    draugai = cursor.fetchall()\n",
    "    for draugas in draugai:\n",
    "        print(f'-{draugas}')"
   ]
  }
 ],
 "metadata": {
  "kernelspec": {
   "display_name": "Python 3.10.6 ('venv': venv)",
   "language": "python",
   "name": "python3"
  },
  "language_info": {
   "codemirror_mode": {
    "name": "ipython",
    "version": 3
   },
   "file_extension": ".py",
   "mimetype": "text/x-python",
   "name": "python",
   "nbconvert_exporter": "python",
   "pygments_lexer": "ipython3",
   "version": "3.10.6"
  },
  "orig_nbformat": 4,
  "vscode": {
   "interpreter": {
    "hash": "35df5f82ee76c7038a9e6c987acf65d3b80fea6e1f2e81d714ea46d977f6b370"
   }
  }
 },
 "nbformat": 4,
 "nbformat_minor": 2
}
