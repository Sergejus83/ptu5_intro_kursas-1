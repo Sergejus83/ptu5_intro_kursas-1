{
 "cells": [
  {
   "cell_type": "code",
   "execution_count": null,
   "metadata": {},
   "outputs": [],
   "source": [
    "# 1\n",
    "# Turime logo su peršviečiamu fonu, dydis 128*128. Atsisiųskite, ir perdarykite taip, \n",
    "# kad nuo viršaus ir apačios nusiimtų po 28 eilutes pikselių. Išsisaugokite, nes naudosime sekančioms užduotims."
   ]
  },
  {
   "cell_type": "code",
   "execution_count": 5,
   "metadata": {},
   "outputs": [
    {
     "name": "stdout",
     "output_type": "stream",
     "text": [
      "(128, 128)\n"
     ]
    },
    {
     "data": {
      "image/png": "[encoded data removed]",
      "text/plain": [
       "<PIL.PngImagePlugin.PngImageFile image mode=RGBA size=128x128>"
      ]
     },
     "execution_count": 5,
     "metadata": {},
     "output_type": "execute_result"
    }
   ],
   "source": [
    "from PIL import Image\n",
    "\n",
    "im = Image.open(\"img/logo.png\")\n",
    "im_copy=im.copy()\n",
    "print(im.size)\n",
    "im\n",
    "\n"
   ]
  },
  {
   "cell_type": "code",
   "execution_count": 30,
   "metadata": {},
   "outputs": [
    {
     "name": "stdout",
     "output_type": "stream",
     "text": [
      "(128, 72)\n"
     ]
    },
    {
     "data": {
      "image/png": "[encoded data removed]",
      "text/plain": [
       "<PIL.Image.Image image mode=RGBA size=128x72>"
      ]
     },
     "execution_count": 30,
     "metadata": {},
     "output_type": "execute_result"
    }
   ],
   "source": [
    "box = (0, 28, 128, 100)\n",
    "im_cut = im.crop(box)\n",
    "im_cut.save(\"img/logo_cut.png\")\n",
    "print(im_cut.size)\n",
    "im_cut\n",
    "# x =128-28-28\n",
    "# print(x)"
   ]
  },
  {
   "cell_type": "code",
   "execution_count": null,
   "metadata": {},
   "outputs": [],
   "source": [
    "# 2\n",
    "# sukurkite funkciją, kuri priimtų:\n",
    "# -paveikslėlį\n",
    "# -kontrasto, spalvingumo, aštrumo ir ryškumo reikšmes\n",
    "# -išsaugoti ar ne reikšmę.\n",
    "# ir atitinkamai pakoreguotų paveikslėlio nustatymus. Parodytų nuotrauką ekrane. Priklausomai nuo pasirinkimo, išsaugotų arba ne. \n",
    "# Išsaugokite faile, prie originalaus pavadinimo pridėję pvz. '_modified', tarkime dog_modified.jpg."
   ]
  },
  {
   "cell_type": "code",
   "execution_count": 57,
   "metadata": {},
   "outputs": [
    {
     "name": "stdout",
     "output_type": "stream",
     "text": [
      "img/stars\n",
      ".png\n",
      "size:  (1500, 1499)\n"
     ]
    }
   ],
   "source": [
    "from PIL import Image, ImageEnhance\n",
    "import os\n",
    "\n",
    "def priinti_peveiksla(paveikslas, kontrastas, spalvingumas, astrumas, ryskumas, save=False): \n",
    "    picture=Image.open(paveikslas)\n",
    "\n",
    "    contrast = ImageEnhance.Contrast(picture)\n",
    "    picture = contrast.enhance(kontrastas)\n",
    "\n",
    "    color = ImageEnhance.Color(picture)\n",
    "    picture = color.enhance(spalvingumas)\n",
    "\n",
    "    sharpness = ImageEnhance.Sharpness(picture)\n",
    "    picture = sharpness.enhance(astrumas)\n",
    "\n",
    "    brightness = ImageEnhance.Brightness(picture)\n",
    "    picture = brightness.enhance(ryskumas)\n",
    "\n",
    "    if save:\n",
    "        loc = os.path.splitext(paveikslas)[0]\n",
    "        ext = os.path.splitext(paveikslas)[1]\n",
    "        picture.save(f'{loc}_apdorotas{ext}')\n",
    "    print(loc)\n",
    "    print(ext)\n",
    "\n",
    "    picture.show()\n",
    "    print(\"size: \", picture.size)\n",
    "priinti_peveiksla(\"img/stars.png\", 44, 12,12,12, True)\n"
   ]
  },
  {
   "cell_type": "code",
   "execution_count": null,
   "metadata": {},
   "outputs": [],
   "source": [
    "# 3\n",
    "# -Sukurkite programą, kuri, gavusi nuorodą į katalogą, praiteruos visus jame esančius failus, išrinks nuotraukas, \n",
    "# -pakeis dydį pagal jūsų nurodytą aukštį išlaikant proporcijas, \n",
    "# -ir kiekvienos nuotraukos apatiniame dešiniajame kampe įdės logotipą, tą kurį išsisaugojote pirmoje užduotyje. \n",
    "# Naudokite .resize, kadangi nuotrauką galbūt reikės padidinti, nebūtinai tik sumažinti."
   ]
  },
  {
   "cell_type": "code",
   "execution_count": 63,
   "metadata": {},
   "outputs": [
    {
     "name": "stdout",
     "output_type": "stream",
     "text": [
      "['img/logo.png', 'img/logo_cut.png', 'img/logo_cut_modified.png', 'img/nenormaliai.jpg', 'img/normaliai.jpg', 'img/pont_au_mousson.jpg', 'img/pyth.png', 'img/stars.png', 'img/stars_apdorotas.png', 'img/stars_modified.png', 'img/s_bykovas.jpg', 'img/s_bykovas_modified.jpg']\n"
     ]
    }
   ],
   "source": [
    "from PIL import Image, ImageEnhance\n",
    "import os\n",
    "# sarasas = []\n",
    "# def perziura(): \n",
    "#     sarasas=Image.open(\"C:\\pythoncodeacademy\\ptu5_intro_kursas-1\\img\")\n",
    "# print(perziura(sarasas))\n",
    "\n",
    "\n",
    "def get_sarasas(aplanka):\n",
    "    failai = os.listdir(aplanka)\n",
    "    pictures = []\n",
    "    for failas in failai:\n",
    "        if failas.endswith(('.pdf', '.jpg', '.png')):\n",
    "           pictures.append(aplanka +'/'+ failas) \n",
    "    return pictures\n",
    "\n",
    "failas = get_sarasas(\"img\")\n",
    "print(failas)\n",
    "\n",
    "\n",
    "\n"
   ]
  }
 ],
 "metadata": {
  "kernelspec": {
   "display_name": "Python 3.10.6 ('venv': venv)",
   "language": "python",
   "name": "python3"
  },
  "language_info": {
   "codemirror_mode": {
    "name": "ipython",
    "version": 3
   },
   "file_extension": ".py",
   "mimetype": "text/x-python",
   "name": "python",
   "nbconvert_exporter": "python",
   "pygments_lexer": "ipython3",
   "version": "3.10.6"
  },
  "orig_nbformat": 4,
  "vscode": {
   "interpreter": {
    "hash": "35df5f82ee76c7038a9e6c987acf65d3b80fea6e1f2e81d714ea46d977f6b370"
   }
  }
 },
 "nbformat": 4,
 "nbformat_minor": 2
}
