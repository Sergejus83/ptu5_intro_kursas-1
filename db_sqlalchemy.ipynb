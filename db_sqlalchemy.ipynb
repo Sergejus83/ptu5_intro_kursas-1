{
 "cells": [
  {
   "cell_type": "markdown",
   "metadata": {},
   "source": [
    "# Darbas su SQLAlchemy"
   ]
  },
  {
   "cell_type": "code",
   "execution_count": 5,
   "metadata": {},
   "outputs": [],
   "source": [
    "import datetime\n",
    "from sqlalchemy import Column, Integer, String, Float, DateTime, create_engine\n",
    "from sqlalchemy.ext.declarative import declarative_base\n",
    "\n",
    "engine = create_engine('sqlite:///data_20221013/projektai.db')\n",
    "Base = declarative_base()"
   ]
  },
  {
   "cell_type": "code",
   "execution_count": 6,
   "metadata": {},
   "outputs": [],
   "source": [
    "class Projektas(Base):\n",
    "    __tablename__ = 'projektas'\n",
    "    id = Column(Integer, primary_key=True)\n",
    "    name = Column(\"pavadinimas\", String)\n",
    "    price = Column(\"kaina\", Float)\n",
    "    created_date = Column(\"sukūrta\", DateTime, default=datetime.datetime.utcnow)\n",
    "\n",
    "    def __init__(self, name, price):\n",
    "        self.name = name\n",
    "        self.price = price\n",
    "\n",
    "    def __repr__(self):\n",
    "        return f\"({self.id}, {self.name}, {self.price}, {self.created_date})\""
   ]
  },
  {
   "cell_type": "code",
   "execution_count": 7,
   "metadata": {},
   "outputs": [],
   "source": [
    "# paleidimas\n",
    "Base.metadata.create_all(engine)"
   ]
  },
  {
   "cell_type": "code",
   "execution_count": null,
   "metadata": {},
   "outputs": [],
   "source": []
  },
  {
   "cell_type": "markdown",
   "metadata": {},
   "source": [
    "# CRUD\n",
    "* Create \n",
    "* Read \n",
    "* Update\n",
    "* Delete"
   ]
  },
  {
   "cell_type": "code",
   "execution_count": 9,
   "metadata": {},
   "outputs": [],
   "source": [
    "from sqlalchemy.orm import sessionmaker\n",
    "# Session = sessionmaker(bind=engine)\n",
    "# session = Session()\n",
    "session = sessionmaker(bind=engine)()"
   ]
  },
  {
   "cell_type": "markdown",
   "metadata": {},
   "source": [
    "### Kaip įrašyti duomenis į lentelę (Crud):"
   ]
  },
  {
   "cell_type": "code",
   "execution_count": 10,
   "metadata": {},
   "outputs": [],
   "source": [
    "# create\n",
    "projektas1 = Projektas(\"Pirmas projektas.\", 20000)\n",
    "session.add(projektas1)\n",
    "session.commit()"
   ]
  },
  {
   "cell_type": "code",
   "execution_count": 11,
   "metadata": {},
   "outputs": [],
   "source": [
    "projektas2 = Projektas(\"Antras projektas\", 55000)\n",
    "session.add(projektas2)\n",
    "session.commit()"
   ]
  },
  {
   "cell_type": "markdown",
   "metadata": {},
   "source": [
    "### Kaip gauti duomenis iš lentelės (cRud):"
   ]
  },
  {
   "cell_type": "code",
   "execution_count": 12,
   "metadata": {},
   "outputs": [
    {
     "name": "stdout",
     "output_type": "stream",
     "text": [
      "(1, Pirmas projektas., 20000.0, 2022-10-14 07:38:36.611210)\n"
     ]
    }
   ],
   "source": [
    "# read one\n",
    "projektas = session.query(Projektas).get(1)\n",
    "print(projektas)"
   ]
  },
  {
   "cell_type": "code",
   "execution_count": 19,
   "metadata": {},
   "outputs": [
    {
     "data": {
      "text/plain": [
       "20000.0"
      ]
     },
     "execution_count": 19,
     "metadata": {},
     "output_type": "execute_result"
    }
   ],
   "source": [
    "# read one\n",
    "projektas = session.query(Projektas).get(1)\n",
    "# projektas\n",
    "projektas.price\n",
    "# projektas\n",
    "# projektas1.name\n",
    "# type(projektas.price)"
   ]
  },
  {
   "cell_type": "code",
   "execution_count": 20,
   "metadata": {},
   "outputs": [
    {
     "data": {
      "text/plain": [
       "[(1, Pirmas projektas., 20000.0, 2022-10-14 07:38:36.611210),\n",
       " (2, Antras projektas, 55000.0, 2022-10-14 07:39:21.412512)]"
      ]
     },
     "execution_count": 20,
     "metadata": {},
     "output_type": "execute_result"
    }
   ],
   "source": [
    "# read all\n",
    "projektai = session.query(Projektas).all()\n",
    "projektai"
   ]
  },
  {
   "cell_type": "code",
   "execution_count": 21,
   "metadata": {},
   "outputs": [
    {
     "data": {
      "text/plain": [
       "[(1, Pirmas projektas., 20000.0, 2022-10-14 07:38:36.611210)]"
      ]
     },
     "execution_count": 21,
     "metadata": {},
     "output_type": "execute_result"
    }
   ],
   "source": [
    "# search\n",
    "search = session.query(Projektas).filter(Projektas.name.ilike(\"pirmas%\")).all()\n",
    "search"
   ]
  },
  {
   "cell_type": "code",
   "execution_count": 32,
   "metadata": {},
   "outputs": [
    {
     "data": {
      "text/plain": [
       "[(2, Antras projektas, 51300.0, 2022-10-14 07:39:21.412512)]"
      ]
     },
     "execution_count": 32,
     "metadata": {},
     "output_type": "execute_result"
    }
   ],
   "source": [
    "search2 = session.query(Projektas).filter(Projektas.price > 25000).all()\n",
    "search2"
   ]
  },
  {
   "cell_type": "code",
   "execution_count": 30,
   "metadata": {},
   "outputs": [
    {
     "data": {
      "text/plain": [
       "[(2, Antras projektas, 55000.0, 2022-10-14 07:39:21.412512)]"
      ]
     },
     "execution_count": 30,
     "metadata": {},
     "output_type": "execute_result"
    }
   ],
   "source": [
    "search3 = session.query(Projektas).filter(\n",
    "    Projektas.price > 20000,\n",
    "    Projektas.name.ilike(\"Antras%\"),).all()\n",
    "search3"
   ]
  },
  {
   "cell_type": "markdown",
   "metadata": {},
   "source": [
    "### Kaip pakeisti duomenis lentelėje (crUd):"
   ]
  },
  {
   "cell_type": "code",
   "execution_count": 31,
   "metadata": {},
   "outputs": [],
   "source": [
    "# update\n",
    "atnaujintas_projektas = session.query(Projektas).get(2)\n",
    "atnaujintas_projektas.price = 51300\n",
    "session.commit()"
   ]
  },
  {
   "cell_type": "markdown",
   "metadata": {},
   "source": [
    "### Kaip ištrinti duomenis lentelėje (cruD):"
   ]
  },
  {
   "cell_type": "code",
   "execution_count": null,
   "metadata": {},
   "outputs": [],
   "source": [
    "# Delete\n",
    "trinamas = session.query(Projektas).filter(Projektas.id == 2).one()\n",
    "session.delete(trinamas)\n",
    "session.commit()"
   ]
  }
 ],
 "metadata": {
  "kernelspec": {
   "display_name": "Python 3.10.6 ('venv': venv)",
   "language": "python",
   "name": "python3"
  },
  "language_info": {
   "codemirror_mode": {
    "name": "ipython",
    "version": 3
   },
   "file_extension": ".py",
   "mimetype": "text/x-python",
   "name": "python",
   "nbconvert_exporter": "python",
   "pygments_lexer": "ipython3",
   "version": "3.10.6"
  },
  "orig_nbformat": 4,
  "vscode": {
   "interpreter": {
    "hash": "35df5f82ee76c7038a9e6c987acf65d3b80fea6e1f2e81d714ea46d977f6b370"
   }
  }
 },
 "nbformat": 4,
 "nbformat_minor": 2
}
