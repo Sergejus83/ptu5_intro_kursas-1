{
 "cells": [
  {
   "cell_type": "code",
   "execution_count": 15,
   "metadata": {},
   "outputs": [],
   "source": [
    "from PIL import Image\n",
    "\n",
    "my_photo = Image.open(\"img/s_bykovas.jpg\")\n",
    "my_photo.show()"
   ]
  },
  {
   "cell_type": "code",
   "execution_count": 16,
   "metadata": {},
   "outputs": [
    {
     "name": "stdout",
     "output_type": "stream",
     "text": [
      "JPEG\n"
     ]
    }
   ],
   "source": [
    "print(my_photo.format)"
   ]
  },
  {
   "cell_type": "code",
   "execution_count": 17,
   "metadata": {},
   "outputs": [],
   "source": [
    "photo_copy = my_photo.copy()\n"
   ]
  },
  {
   "cell_type": "code",
   "execution_count": 18,
   "metadata": {},
   "outputs": [],
   "source": [
    "from PIL import Image, ImageFilter\n",
    "# photo_copy = photo_copy.filter(ImageFilter.BLUR)\n",
    "# photo_copy.show()"
   ]
  },
  {
   "cell_type": "code",
   "execution_count": 19,
   "metadata": {},
   "outputs": [
    {
     "name": "stdout",
     "output_type": "stream",
     "text": [
      "<ImagingCore object at 0x000001ACF2645F50>\n"
     ]
    }
   ],
   "source": [
    "# from PIL import Image, ImageFilter\n",
    "my_photo = Image.open(\"img/s_bykovas.jpg\")\n",
    "\n",
    "data = photo_copy.getdata()\n",
    "print(data)\n",
    "\n",
    "for pixel in enumerate(data):\n",
    "    print(data[pixel])"
   ]
  },
  {
   "cell_type": "code",
   "execution_count": null,
   "metadata": {},
   "outputs": [],
   "source": []
  }
 ],
 "metadata": {
  "kernelspec": {
   "display_name": "Python 3.10.6 ('venv': venv)",
   "language": "python",
   "name": "python3"
  },
  "language_info": {
   "codemirror_mode": {
    "name": "ipython",
    "version": 3
   },
   "file_extension": ".py",
   "mimetype": "text/x-python",
   "name": "python",
   "nbconvert_exporter": "python",
   "pygments_lexer": "ipython3",
   "version": "3.10.6"
  },
  "orig_nbformat": 4,
  "vscode": {
   "interpreter": {
    "hash": "35df5f82ee76c7038a9e6c987acf65d3b80fea6e1f2e81d714ea46d977f6b370"
   }
  }
 },
 "nbformat": 4,
 "nbformat_minor": 2
}
